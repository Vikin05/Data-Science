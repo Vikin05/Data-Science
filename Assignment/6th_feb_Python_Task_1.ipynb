{
 "cells": [
  {
   "attachments": {},
   "cell_type": "markdown",
   "metadata": {},
   "source": [
    "Q1. \n",
    "Create a function which will take a list as an argument and return the product of all the numbers \n",
    "after creating a flat list.\n",
    "Use the below-given list as an argument for your function.\n",
    "\n",
    "list1 = [1,2,3,4, [44,55,66, True], False, (34,56,78,89,34), {1,2,3,3,2,1}, {1:34, \"key2\": [55, 67, 78, 89], \n",
    "4: (45,22, 61, 34)}, [56, 'data science'], 'Machine Learning']\n",
    "\n",
    "Note: you must extract numeric keys and values of the dictionary also."
   ]
  },
  {
   "cell_type": "code",
   "execution_count": 7,
   "metadata": {},
   "outputs": [
    {
     "name": "stdout",
     "output_type": "stream",
     "text": [
      "Final List:  [1, 2, 3, 4, 44, 55, 66, 34, 56, 78, 89, 34, 1, 2, 3, 1, 34, 55, 67, 78, 89, 4, 45, 22, 61, 34, 56]\n",
      "Final Product:  4134711838987085478833841242112000\n"
     ]
    }
   ],
   "source": [
    "def task_11(l):\n",
    "    l1=[]\n",
    "    for i in l:\n",
    "        if type(i)==list or type(i)==tuple or type(i)==set:\n",
    "            for j in i:\n",
    "                if type(j)==int:\n",
    "                    l1.append(j)\n",
    "        \n",
    "        if type(i)==int:\n",
    "            l1.append(i)\n",
    "\n",
    "        if type(i)==dict:\n",
    "            for j in i:\n",
    "                if type(j)==int:\n",
    "                    l1.append(j)\n",
    "                \n",
    "                if type(i[j])==int:\n",
    "                    l1.append(i[j])\n",
    "                \n",
    "                if type(i[j])==list or type(i[j])==tuple:\n",
    "                    for k in i[j]:\n",
    "                        if type(k)==int:\n",
    "                            l1.append(k)\n",
    "        \n",
    "       \n",
    "\n",
    "    prod=1\n",
    "    for i in l1:\n",
    "        prod*=i\n",
    "    \n",
    "    print(\"Final List: \",l1)\n",
    "\n",
    "    return prod\n",
    "\n",
    "list1 = [1,2,3,4, [44,55,66, True], False, (34,56,78,89,34), {1,2,3,3,2,1}, {1:34, \"key2\": [55, 67, 78, 89], \n",
    "4: (45,22, 61, 34)}, [56, 'data science'], 'Machine Learning']\n",
    "product=task_11(list1)\n",
    "print(\"Final Product: \",product)"
   ]
  },
  {
   "attachments": {},
   "cell_type": "markdown",
   "metadata": {},
   "source": [
    "Q2. \n",
    "Write a python program for encrypting a message sent to you by your friend. The logic of encryption\n",
    "should be such that, for a the output should be z. For b, the output should be y. For c, the output should\n",
    "be x respectively. Also, the whitespace should be replaced with a dollar sign. Keep the punctuation\n",
    "marks unchanged.\n",
    "\n",
    "Input Sentence: I want to become a Data Scientist.\n",
    "Encrypt the above input sentence using the program you just created.\n",
    "\n",
    "Note: Convert the given input sentence into lowercase before encrypting. The final output should be\n",
    "lowercase."
   ]
  },
  {
   "cell_type": "code",
   "execution_count": 36,
   "metadata": {},
   "outputs": [
    {
     "name": "stdout",
     "output_type": "stream",
     "text": [
      "Input String: I want to become a Data Scientist.\n",
      "Output String: r$dzmg$gl$yvxlnv$z$wzgz$hxrvmgrhg.\n"
     ]
    }
   ],
   "source": [
    "def encrypt(s):\n",
    "    s=s.lower()\n",
    "    out=\"\"\n",
    "    for i in s:\n",
    "        if i.isalpha():\n",
    "                c1=ord('m')-ord(i)\n",
    "                c2=chr(ord('n')+c1)\n",
    "                out+=c2\n",
    "        else:\n",
    "            out+=i\n",
    "   \n",
    "    out=out.replace(\" \",\"$\")\n",
    "    return out\n",
    "\n",
    "out=encrypt(\"I want to become a Data Scientist.\")\n",
    "print(\"Input String: I want to become a Data Scientist.\")\n",
    "print(\"Output String:\",out)        "
   ]
  }
 ],
 "metadata": {
  "kernelspec": {
   "display_name": "Python 3",
   "language": "python",
   "name": "python3"
  },
  "language_info": {
   "codemirror_mode": {
    "name": "ipython",
    "version": 3
   },
   "file_extension": ".py",
   "mimetype": "text/x-python",
   "name": "python",
   "nbconvert_exporter": "python",
   "pygments_lexer": "ipython3",
   "version": "3.10.10"
  },
  "orig_nbformat": 4,
  "vscode": {
   "interpreter": {
    "hash": "288a281c2e3d16a7f601cda6e63e37fd7b42e9331047167925c3ee9da0ad7efc"
   }
  }
 },
 "nbformat": 4,
 "nbformat_minor": 2
}
