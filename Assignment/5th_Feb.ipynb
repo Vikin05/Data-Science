{
 "cells": [
  {
   "attachments": {},
   "cell_type": "markdown",
   "metadata": {},
   "source": [
    "Q1. Explain Class and Object with respect to Object-Oriented Programming. Give a suitable example."
   ]
  },
  {
   "cell_type": "code",
   "execution_count": 1,
   "metadata": {},
   "outputs": [
    {
     "name": "stdout",
     "output_type": "stream",
     "text": [
      "Starting the car\n",
      "Accelerating...\n",
      "Braking...\n"
     ]
    }
   ],
   "source": [
    "'''\n",
    "In object-oriented programming (OOP), a class is a blueprint or a template for creating objects. \n",
    "It defines the properties and behaviors that objects of the class will have. An object, on the other hand,\n",
    "is an instance of a class. It is a specific realization of the class blueprint with its own values for \n",
    "properties and behaviors.\n",
    "\n",
    "'''\n",
    "\n",
    "class Car:\n",
    "    def __init__(self,model,year,color,mileage):\n",
    "        self.model=model\n",
    "        self.year=year\n",
    "        self.color=color\n",
    "        self.mileage=mileage\n",
    "\n",
    "    def start(self):\n",
    "        print(\"Starting the car\")\n",
    "\n",
    "    def accelerate(self):\n",
    "        print(\"Accelerating...\")\n",
    "\n",
    "    def brake(self):\n",
    "        print(\"Braking...\") \n",
    "\n",
    "tata=Car(\"Nexon\",2022,\"Black\",140)\n",
    "\n",
    "tata.start()\n",
    "tata.accelerate()\n",
    "tata.brake()"
   ]
  },
  {
   "attachments": {},
   "cell_type": "markdown",
   "metadata": {},
   "source": [
    "Q2. Name the four pillars of OOPs. "
   ]
  },
  {
   "cell_type": "code",
   "execution_count": null,
   "metadata": {},
   "outputs": [],
   "source": [
    "'''\n",
    "The four pillars of OOPs are:\n",
    "\n",
    "1.Inheritance:   This allows classes to inherit properties and methods from other classes, thereby promoting code reuse \n",
    "                 and reducing redundancy. Inheritance enables the creation of class hierarchies in which more specialized \n",
    "                 classes (called subclasses or derived classes) inherit from more general classes (called superclasses or \n",
    "                 base classes). \n",
    "2.Polymorphism:  This refers to the ability of objects to take on many forms, or to be treated as if they are of a more \n",
    "                 general type. Polymorphism enables code to be written that can work with objects of different types, as \n",
    "                 long as they share a common interface or behavior.\n",
    "3.Abstraction:   This involves the process of identifying and representing the essential features of a system or object, \n",
    "                 while ignoring details that are not relevant to the current context. Abstraction allows programmers to focus \n",
    "                 on the essential aspects of a problem and design solutions that are more modular, easier to understand, and \n",
    "                 more reusable.\n",
    "4.Encapsulation: This refers to the practice of bundling data and methods that operate on that data within a single unit, known \n",
    "                 as a class. Encapsulation allows data to be hidden and protected from outside interference, and enables the \n",
    "                 implementation of a well-defined interface through which other code can interact with the data and methods of \n",
    "                 the class.\n",
    "\n",
    "'''"
   ]
  },
  {
   "attachments": {},
   "cell_type": "markdown",
   "metadata": {},
   "source": [
    "Q3. Explain why the __init__() function is used. Give a suitable example. "
   ]
  },
  {
   "cell_type": "code",
   "execution_count": 3,
   "metadata": {},
   "outputs": [
    {
     "name": "stdout",
     "output_type": "stream",
     "text": [
      "Vikin\n",
      "vikin@gmail.com\n",
      "22\n"
     ]
    }
   ],
   "source": [
    "'''\n",
    "In object-oriented programming, the __init__() method is a special method that is called when an object is created from a class. \n",
    "It is used to initialize the object's properties, and can also perform other setup tasks if needed.\n",
    "\n",
    "The __init__() method is commonly used to set the initial state of the object and provide values for its properties. This is \n",
    "important because it ensures that every object of the class starts with a well-defined set of properties, regardless of how or \n",
    "where it is created.\n",
    "\n",
    "'''\n",
    "\n",
    "class Person:\n",
    "    def __init__(self,name,email,age):\n",
    "        self.name=name\n",
    "        self.email=email\n",
    "        self.age=age\n",
    "    \n",
    "P1=Person(\"Vikin\",\"vikin@gmail.com\",22)\n",
    "\n",
    "print(P1.name)\n",
    "print(P1.email)\n",
    "print(P1.age)"
   ]
  },
  {
   "attachments": {},
   "cell_type": "markdown",
   "metadata": {},
   "source": [
    "Q4. Why self is used in OOPs? "
   ]
  },
  {
   "cell_type": "code",
   "execution_count": null,
   "metadata": {},
   "outputs": [],
   "source": [
    "'''\n",
    "In object-oriented programming (OOP), self is a reference to the current instance of a class. It is used to access the instance's \n",
    "attributes and methods from within the class's methods.\n",
    "\n",
    "When a method is called on an object, the object itself is automatically passed as the first argument to the method. This argument \n",
    "is conventionally named self, although you can technically use any name you like (as long as it doesn't clash with a reserved keyword).\n",
    "\n",
    "The use of self is important because it allows us to distinguish between attributes and methods that belong to the class as a whole \n",
    "(class variables and class methods) and those that belong to a specific instance of the class (instance variables and instance methods).\n",
    "\n",
    "'''"
   ]
  },
  {
   "attachments": {},
   "cell_type": "markdown",
   "metadata": {},
   "source": [
    "Q5. What is inheritance? Give an example for each type of inheritance."
   ]
  },
  {
   "cell_type": "code",
   "execution_count": 8,
   "metadata": {},
   "outputs": [
    {
     "name": "stdout",
     "output_type": "stream",
     "text": [
      "I am an animal  Dino\n",
      "\n",
      "I am a Dog  Sam\n",
      "I have mammary glands.\n",
      "\n",
      "I am a Pigeon  Sky\n",
      "I lay eggs.\n",
      "\n",
      "I am a platypus  Plats\n",
      "I have mammary glands.\n"
     ]
    }
   ],
   "source": [
    "'''\n",
    "In object-oriented programming (OOP), inheritance is a mechanism that allows a new class (called the derived class or subclass) to be \n",
    "based on an existing class (called the base class or superclass), inheriting some or all of its attributes and behaviors.\n",
    "\n",
    "When a class is defined as a subclass of another class, it can use and extend the attributes and methods of the superclass, as well \n",
    "as add its own new attributes and methods. The subclass inherits all the public and protected members of the superclass, including its \n",
    "fields, properties, methods, and inner classes. Private members of the superclass are not inherited and cannot be accessed directly by \n",
    "the subclass.\n",
    "\n",
    "Inheritance promotes code reuse and reduces duplication, since common attributes and behaviors can be defined in a superclass and reused \n",
    "in multiple subclasses. It also allows for more flexible and modular code, as new subclasses can be created to specialize or extend the \n",
    "functionality of existing classes without modifying their implementation.\n",
    "\n",
    "'''\n",
    "\n",
    "class Animal:\n",
    "    def __init__(self,name):\n",
    "        self.name=name\n",
    "\n",
    "    def speak(self,name):\n",
    "        print(\"I am an animal \",name)\n",
    "\n",
    "class Mammal(Animal):\n",
    "    def __init__(self,name):\n",
    "        super().__init__(name)\n",
    "    \n",
    "    def reproduction(self):\n",
    "        print(\"I have mammary glands.\")\n",
    "\n",
    "class Non_Mammal(Animal):\n",
    "    def __init__(self,name):\n",
    "        super().__init__(name)\n",
    "    \n",
    "    def reproduction(self):\n",
    "        print(\"I lay eggs.\")\n",
    "\n",
    "class Dog(Mammal):\n",
    "    def __init__(self,name,breed):\n",
    "        super().__init__(name)\n",
    "        self.breed=breed\n",
    "    \n",
    "    def speak(self,name):\n",
    "        print(\"I am a Dog \",name)\n",
    "\n",
    "class Pigeon(Non_Mammal):\n",
    "    def __init__(self,name):\n",
    "        super().__init__(name)\n",
    "    \n",
    "    def speak(self,name):\n",
    "        print(\"I am a Pigeon \",name)\n",
    "\n",
    "class Platypus(Mammal,Non_Mammal):\n",
    "    def __init__(self,name):\n",
    "        super().__init__(name)\n",
    "\n",
    "    def speak(self,name):\n",
    "        print(\"I am a platypus \", name)\n",
    "\n",
    "animal_demo=Animal(\"Dino\")\n",
    "animal_demo.speak(\"Dino\")\n",
    "print()\n",
    "\n",
    "dog_demo=Dog(\"Sam\",\"Labrador\")\n",
    "dog_demo.speak(\"Sam\")\n",
    "dog_demo.reproduction()\n",
    "print()\n",
    "\n",
    "pigeon_demo=Pigeon(\"Sky\")\n",
    "pigeon_demo.speak(\"Sky\")\n",
    "pigeon_demo.reproduction()\n",
    "print()\n",
    "\n",
    "platypus_demo=Platypus(\"Plats\")\n",
    "platypus_demo.speak(\"Plats\")\n",
    "platypus_demo.reproduction()\n",
    "\n"
   ]
  }
 ],
 "metadata": {
  "kernelspec": {
   "display_name": "Python 3",
   "language": "python",
   "name": "python3"
  },
  "language_info": {
   "codemirror_mode": {
    "name": "ipython",
    "version": 3
   },
   "file_extension": ".py",
   "mimetype": "text/x-python",
   "name": "python",
   "nbconvert_exporter": "python",
   "pygments_lexer": "ipython3",
   "version": "3.10.10"
  },
  "orig_nbformat": 4,
  "vscode": {
   "interpreter": {
    "hash": "288a281c2e3d16a7f601cda6e63e37fd7b42e9331047167925c3ee9da0ad7efc"
   }
  }
 },
 "nbformat": 4,
 "nbformat_minor": 2
}
