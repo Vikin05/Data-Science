{
 "cells": [
  {
   "attachments": {},
   "cell_type": "markdown",
   "metadata": {},
   "source": [
    "1. Write a program to accept percentage from the user and display the grade according to the criteria"
   ]
  },
  {
   "cell_type": "code",
   "execution_count": null,
   "metadata": {},
   "outputs": [
    {
     "name": "stdout",
     "output_type": "stream",
     "text": [
      "Grade: D\n"
     ]
    }
   ],
   "source": [
    "percentage=int(input(\"Enter the percentage: \"))\n",
    "if percentage>90 and percentage<=100:\n",
    "    print(\"Grade: A\")\n",
    "elif percentage>80 and percentage<=90:\n",
    "    print(\"Grade: B\")\n",
    "elif percentage>60 and percentage<=80:\n",
    "    print(\"Grade: C\")\n",
    "elif percentage<60 and percentage>=0:\n",
    "    print(\"Grade: D\")\n",
    "else:\n",
    "    print(\"Invalid Input\")\n"
   ]
  },
  {
   "attachments": {},
   "cell_type": "markdown",
   "metadata": {},
   "source": [
    "2. Write a program to accept the cost price of a bike and display the road tax to be paid according to the criteria"
   ]
  },
  {
   "cell_type": "code",
   "execution_count": null,
   "metadata": {},
   "outputs": [
    {
     "name": "stdout",
     "output_type": "stream",
     "text": [
      "Road Tax: Rs.2000.0\n"
     ]
    }
   ],
   "source": [
    "cp=int(input(\"Enter the cost price of the bike: \"))\n",
    "road_tax=0\n",
    "if cp<=50000:\n",
    "    road_tax=(cp*5)/100\n",
    "elif cp>50000 and cp<=100000:\n",
    "    road_tax=(cp*10)/100\n",
    "elif cp>100000:\n",
    "    road_tax=(cp*15)/100\n",
    "print(f\"Road Tax: Rs.{road_tax}\")\n"
   ]
  },
  {
   "attachments": {},
   "cell_type": "markdown",
   "metadata": {},
   "source": [
    "3. Accept any city from the user and display monuments of that city. \n",
    "\n"
   ]
  },
  {
   "cell_type": "code",
   "execution_count": null,
   "metadata": {},
   "outputs": [
    {
     "name": "stdout",
     "output_type": "stream",
     "text": [
      "Invalid input\n"
     ]
    }
   ],
   "source": [
    "city=input(\"Enter the city: \")\n",
    "if city.lower()=='delhi':\n",
    "    print(\"Monument: Red Fort\")\n",
    "elif city.lower()=='agra':\n",
    "    print(\"Monument: Taj Mahal\")\n",
    "elif city.lower()=='jaipur':\n",
    "    print(\"Monument: Jal Mahal\")\n",
    "else: \n",
    "    print(\"Invalid input\")\n"
   ]
  },
  {
   "attachments": {},
   "cell_type": "markdown",
   "metadata": {},
   "source": [
    "4. Check how many times a given number can be divided by 3 before it is less than or equal to 10."
   ]
  },
  {
   "cell_type": "code",
   "execution_count": null,
   "metadata": {},
   "outputs": [
    {
     "name": "stdout",
     "output_type": "stream",
     "text": [
      "100 can be divided 2 time/s before it becomes less than or equal to 10\n"
     ]
    }
   ],
   "source": [
    "n=int(input(\"Enter the number: \"))\n",
    "og_num=n\n",
    "count=0\n",
    "while n>10:\n",
    "    n=n/3\n",
    "    if(n>10):\n",
    "        count+=1\n",
    "print(f\"{og_num} can be divided {count} time/s before it becomes less than or equal to 10\")"
   ]
  },
  {
   "attachments": {},
   "cell_type": "markdown",
   "metadata": {},
   "source": [
    "5. Why and When to Use while Loop in Python give a detailed description with example"
   ]
  },
  {
   "cell_type": "code",
   "execution_count": null,
   "metadata": {},
   "outputs": [
    {
     "name": "stdout",
     "output_type": "stream",
     "text": [
      "0 1 2 3 4 5 6 7 8 9 "
     ]
    }
   ],
   "source": [
    "'''\n",
    "1. The while loop is useful when you want to repeatedly execute a certain block of code as long as a certain condition is True. \n",
    "2. The while loop is useful when you don't know beforehand how many times you need to repeat a certain piece of code. \n",
    "   For example, you might use a while loop to keep prompting the user for input until they enter a valid response. \n",
    "   Or you might use a while loop to keep iterating through a list of items until a certain item is found.\n",
    "3. It's important to be careful when using while loops, as an infinite loop can occur if the condition never becomes False. \n",
    "   To avoid this, make sure that the condition will eventually be False, either by updating a variable inside the loop or by using \n",
    "   a break statement to exit the loop under certain conditions.\n",
    "'''\n",
    "i=0\n",
    "while i<10:\n",
    "    print(f\"{i} \",end=\"\")\n",
    "    i=i+1"
   ]
  },
  {
   "attachments": {},
   "cell_type": "markdown",
   "metadata": {},
   "source": [
    "6. Use nested while loop to print 3 different pattern. "
   ]
  },
  {
   "cell_type": "code",
   "execution_count": null,
   "metadata": {},
   "outputs": [
    {
     "name": "stdout",
     "output_type": "stream",
     "text": [
      "      * \n",
      "     * * \n",
      "    * * * \n",
      "   * * * * \n",
      "  * * * * * \n"
     ]
    }
   ],
   "source": [
    "#1\n",
    "n=int(input(\"Enter the number of rows you want: \"))\n",
    "m=n+1\n",
    "for i in range(1,n+1):\n",
    "        print(\" \"*m,end=\"\")\n",
    "        print(\"* \"*i)\n",
    "        m=m-1"
   ]
  },
  {
   "cell_type": "code",
   "execution_count": null,
   "metadata": {},
   "outputs": [
    {
     "name": "stdout",
     "output_type": "stream",
     "text": [
      "* \n",
      "* * \n",
      "* * * \n",
      "* * * * \n",
      "* * * * * \n"
     ]
    }
   ],
   "source": [
    "#2\n",
    "n=int(input(\"Enter the number of rows you want: \"))\n",
    "for i in range(1,n+1):\n",
    "        print(\"* \"*i)\n",
    "        m=m-1"
   ]
  },
  {
   "cell_type": "code",
   "execution_count": null,
   "metadata": {},
   "outputs": [
    {
     "name": "stdout",
     "output_type": "stream",
     "text": [
      "         *\n",
      "       * *\n",
      "     * * *\n",
      "   * * * *\n",
      " * * * * *\n"
     ]
    }
   ],
   "source": [
    "#3\n",
    "# n=int(input(\"Enter the number of rows you want: \"))\n",
    "# m=1\n",
    "# for i in range(0,n,-1):\n",
    "#         print(\" \"*m,end=\"\")\n",
    "#         print(\"* \"*i)\n",
    "#         m=m+1\n",
    "n=int(input(\"Enter the number of rows you want: \"))\n",
    "m=n-1\n",
    "for i in range(1,n+1):\n",
    "        print(\"  \"*m,end=\"\")\n",
    "        print(\" *\"*i)\n",
    "        m=m-1"
   ]
  },
  {
   "attachments": {},
   "cell_type": "markdown",
   "metadata": {},
   "source": [
    "7/8. Reverse a while loop to display numbers from 10 to 1."
   ]
  },
  {
   "cell_type": "code",
   "execution_count": 3,
   "metadata": {},
   "outputs": [
    {
     "name": "stdout",
     "output_type": "stream",
     "text": [
      "10 9 8 7 6 5 4 3 2 1 "
     ]
    }
   ],
   "source": [
    "i=10\n",
    "while i>0:\n",
    "    print(f\"{i} \",end=\"\")\n",
    "    i-=1"
   ]
  }
 ],
 "metadata": {
  "kernelspec": {
   "display_name": "Python 3",
   "language": "python",
   "name": "python3"
  },
  "language_info": {
   "codemirror_mode": {
    "name": "ipython",
    "version": 3
   },
   "file_extension": ".py",
   "mimetype": "text/x-python",
   "name": "python",
   "nbconvert_exporter": "python",
   "pygments_lexer": "ipython3",
   "version": "3.10.10"
  },
  "orig_nbformat": 4,
  "vscode": {
   "interpreter": {
    "hash": "288a281c2e3d16a7f601cda6e63e37fd7b42e9331047167925c3ee9da0ad7efc"
   }
  }
 },
 "nbformat": 4,
 "nbformat_minor": 2
}
