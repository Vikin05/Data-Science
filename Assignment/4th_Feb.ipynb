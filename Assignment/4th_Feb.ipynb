{
 "cells": [
  {
   "attachments": {},
   "cell_type": "markdown",
   "metadata": {},
   "source": [
    "Q1. Create a python program to sort the given list of tuples based on integer value using a  lambda function.\n",
    "\n",
    "[('Sachin Tendulkar', 34357), ('Ricky Ponting', 27483), ('Jack Kallis', 25534), ('Virat Kohli', 24936)] "
   ]
  },
  {
   "cell_type": "code",
   "execution_count": 10,
   "metadata": {},
   "outputs": [
    {
     "name": "stdout",
     "output_type": "stream",
     "text": [
      "[('Virat Kohli', 24936), ('Jack Kallis', 25534), ('Ricky Ponting', 27483), ('Sachin Tendulkar', 34357)]\n"
     ]
    }
   ],
   "source": [
    "l1=[('Sachin Tendulkar', 34357), ('Ricky Ponting', 27483), ('Jack Kallis', 25534), ('Virat Kohli', 24936)] \n",
    "\n",
    "s1=list(sorted(l,key=lambda x:x[1]))\n",
    "\n",
    "print(s1)"
   ]
  },
  {
   "attachments": {},
   "cell_type": "markdown",
   "metadata": {},
   "source": [
    "Q2. Write a Python Program to find the squares of all the numbers in the given list of integers using  lambda and map functions. \n",
    "\n",
    "[1, 2, 3, 4, 5, 6, 7, 8, 9, 10] "
   ]
  },
  {
   "cell_type": "code",
   "execution_count": 15,
   "metadata": {},
   "outputs": [
    {
     "data": {
      "text/plain": [
       "[1, 4, 9, 16, 25, 36, 49, 64, 81, 100]"
      ]
     },
     "execution_count": 15,
     "metadata": {},
     "output_type": "execute_result"
    }
   ],
   "source": [
    "l2=[1, 2, 3, 4, 5, 6, 7, 8, 9, 10] \n",
    "\n",
    "s2=list(map(lambda x:x**2,l2))\n",
    "s2"
   ]
  },
  {
   "attachments": {},
   "cell_type": "markdown",
   "metadata": {},
   "source": [
    "Q3. Write a python program to convert the given list of integers into a tuple of strings. Use map and  lambda functions \n",
    "\n",
    "Given String: [1, 2, 3, 4, 5, 6, 7, 8, 9, 10] \n",
    "Expected output: ('1', '2', '3', '4', '5', '6', '7', '8', '9', '10') \n"
   ]
  },
  {
   "cell_type": "code",
   "execution_count": 16,
   "metadata": {},
   "outputs": [
    {
     "data": {
      "text/plain": [
       "('1', '2', '3', '4', '5', '6', '7', '8', '9', '10')"
      ]
     },
     "execution_count": 16,
     "metadata": {},
     "output_type": "execute_result"
    }
   ],
   "source": [
    "l3=[1, 2, 3, 4, 5, 6, 7, 8, 9, 10] \n",
    "s3=tuple(map(lambda x:str(x),l3))\n",
    "s3"
   ]
  },
  {
   "attachments": {},
   "cell_type": "markdown",
   "metadata": {},
   "source": [
    "Q4.  Write a python program using reduce function to compute the product of a list containing numbers  from 1 to 25."
   ]
  },
  {
   "cell_type": "code",
   "execution_count": 20,
   "metadata": {},
   "outputs": [
    {
     "name": "stdout",
     "output_type": "stream",
     "text": [
      "The product of the list elements is : 15511210043330985984000000\n"
     ]
    }
   ],
   "source": [
    "import functools\n",
    "\n",
    "l4=[]\n",
    "for i in range(1,26):\n",
    "    l4.append(i)\n",
    "\n",
    "print(\"The product of the list elements is : \",end=\"\")\n",
    "print(functools.reduce(lambda a,b:a*b,l4))\n",
    "\n",
    "\n"
   ]
  },
  {
   "attachments": {},
   "cell_type": "markdown",
   "metadata": {},
   "source": [
    "Q5. Write a python program to filter the numbers in a given list that are divisible by 2 and 3 using the  filter function. \n",
    "\n",
    "[2, 3, 6, 9, 27, 60, 90, 120, 55, 46] \n"
   ]
  },
  {
   "cell_type": "code",
   "execution_count": 22,
   "metadata": {},
   "outputs": [
    {
     "data": {
      "text/plain": [
       "[2, 3, 6, 9, 27, 60, 90, 120, 46]"
      ]
     },
     "execution_count": 22,
     "metadata": {},
     "output_type": "execute_result"
    }
   ],
   "source": [
    "l5=[2, 3, 6, 9, 27, 60, 90, 120, 55, 46] \n",
    "s5=list(filter(lambda x:(x%2==0 or x%3==0),l5))\n",
    "s5"
   ]
  },
  {
   "attachments": {},
   "cell_type": "markdown",
   "metadata": {},
   "source": [
    "Q6. Write a python program to find palindromes in the given list of strings using lambda and filter  function. \n",
    "\n",
    "['python', 'php', 'aba', 'radar', 'level'] \n"
   ]
  },
  {
   "cell_type": "code",
   "execution_count": 25,
   "metadata": {},
   "outputs": [
    {
     "data": {
      "text/plain": [
       "['php', 'aba', 'radar', 'level']"
      ]
     },
     "execution_count": 25,
     "metadata": {},
     "output_type": "execute_result"
    }
   ],
   "source": [
    "l6=['python', 'php', 'aba', 'radar', 'level'] \n",
    "s6=list(filter(lambda x:(x==x[::-1]),l6))\n",
    "s6"
   ]
  }
 ],
 "metadata": {
  "kernelspec": {
   "display_name": "Python 3",
   "language": "python",
   "name": "python3"
  },
  "language_info": {
   "codemirror_mode": {
    "name": "ipython",
    "version": 3
   },
   "file_extension": ".py",
   "mimetype": "text/x-python",
   "name": "python",
   "nbconvert_exporter": "python",
   "pygments_lexer": "ipython3",
   "version": "3.10.10"
  },
  "orig_nbformat": 4,
  "vscode": {
   "interpreter": {
    "hash": "288a281c2e3d16a7f601cda6e63e37fd7b42e9331047167925c3ee9da0ad7efc"
   }
  }
 },
 "nbformat": 4,
 "nbformat_minor": 2
}
