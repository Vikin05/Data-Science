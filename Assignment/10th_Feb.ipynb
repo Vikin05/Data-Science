{
 "cells": [
  {
   "attachments": {},
   "cell_type": "markdown",
   "metadata": {},
   "source": [
    "Q1. Which function is used to open a file? What are the different modes of opening a file? Explain each mode\n",
    "of file opening."
   ]
  },
  {
   "cell_type": "code",
   "execution_count": 2,
   "metadata": {},
   "outputs": [
    {
     "data": {
      "text/plain": [
       "'\\nopen(\"filenameDotExtension\", \"mode_in_which_we_wantTo_openFile\")\\nfile = open(\\'data.txt\\', \\'r\\')\\n\\nDifferent mode for opening a file as such:\\nr - to open in read mode(##default)\\nw - to open in write mode(wipe out all existing data and paste current one)\\na - to open in append mode(preserving older data and adding new into it)\\nx - if not exist then create\\nt - text mode(##default)\\nb - binary mode\\n+ - read & write mode\\n\\n'"
      ]
     },
     "execution_count": 2,
     "metadata": {},
     "output_type": "execute_result"
    }
   ],
   "source": [
    "'''\n",
    "open(\"filenameDotExtension\", \"mode_in_which_we_wantTo_openFile\")\n",
    "file = open('data.txt', 'r')\n",
    "\n",
    "Different mode for opening a file as such:\n",
    "r - to open in read mode(##default)\n",
    "w - to open in write mode(wipe out all existing data and paste current one)\n",
    "a - to open in append mode(preserving older data and adding new into it)\n",
    "x - if not exist then create\n",
    "t - text mode(##default)\n",
    "b - binary mode\n",
    "+ - read & write mode\n",
    "\n",
    "'''"
   ]
  },
  {
   "attachments": {},
   "cell_type": "markdown",
   "metadata": {},
   "source": [
    "Q2. Why close() function is used? Why is it important to close a file?"
   ]
  },
  {
   "cell_type": "code",
   "execution_count": null,
   "metadata": {},
   "outputs": [],
   "source": [
    "'''\n",
    "The close() function is used to close a file that has been opened for reading or writing. It is \n",
    "important to close a file for several reasons:\n",
    "\n",
    "Release of resources: When a file is opened, the operating system allocates certain resources to \n",
    "that file, such as buffer space in memory. If you don't close the file when you're finished with \n",
    "it, these resources will remain tied up, which could cause problems if you try to work with other \n",
    "files or programs.\n",
    "\n",
    "Writing data: When you write data to a file, the operating system often buffers that data in memory \n",
    "before writing it to the file. If you don't close the file, the data may not be written to the file \n",
    "until much later, or may even be lost if there is a system crash.\n",
    "\n",
    "Consistency: If you don't close a file properly, some data may remain in the buffer and not be \n",
    "written to the file. This can lead to inconsistent data and make the file unusable.\n",
    "\n",
    "Security: If you don't close a file properly, other programs or users may be able to access it, \n",
    "potentially causing a security risk.\n",
    "\n",
    "Therefore, it is important to always close files properly when you're finished with them, to \n",
    "ensure that resources are released, data is written correctly, and security is maintained.\n",
    "\n",
    "'''"
   ]
  },
  {
   "attachments": {},
   "cell_type": "markdown",
   "metadata": {},
   "source": [
    "Q3. Write a python program to create a text file. Write ‘I want to become a Data Scientist’ in that file. Then\n",
    "close the file. Open this file and read the content of the file."
   ]
  },
  {
   "cell_type": "code",
   "execution_count": 8,
   "metadata": {},
   "outputs": [],
   "source": [
    "file=open(\"aspiration.txt\",\"w\")\n",
    "file.write(\"I want to become a Data Scientist\")\n",
    "file.close()"
   ]
  },
  {
   "cell_type": "code",
   "execution_count": 9,
   "metadata": {},
   "outputs": [
    {
     "data": {
      "text/plain": [
       "'I want to become a Data Scientist'"
      ]
     },
     "execution_count": 9,
     "metadata": {},
     "output_type": "execute_result"
    }
   ],
   "source": [
    "file=open(\"aspiration.txt\",\"r\")\n",
    "file.read()"
   ]
  },
  {
   "attachments": {},
   "cell_type": "markdown",
   "metadata": {},
   "source": [
    "Q4. Explain the following with python code: read(), readline() and readlines()."
   ]
  },
  {
   "cell_type": "code",
   "execution_count": null,
   "metadata": {},
   "outputs": [],
   "source": [
    "'''\n",
    "In Python, there are three different methods you can use to read the contents of a file: read(), \n",
    "readline(), and readlines(). Here's an explanation of each method, along with example code:\n",
    "\n",
    "'''"
   ]
  },
  {
   "cell_type": "code",
   "execution_count": 12,
   "metadata": {},
   "outputs": [
    {
     "name": "stdout",
     "output_type": "stream",
     "text": [
      "I want to become a Data Scientist.\n",
      "This is line 2.\n",
      "This is line 3.\n"
     ]
    }
   ],
   "source": [
    "'''\n",
    "1. read() method:\n",
    "   The read() method reads the entire contents of the file as a single string. \n",
    "\n",
    "'''\n",
    "\n",
    "with open(\"aspiration.txt\",\"r\") as file:\n",
    "    content=file.read()\n",
    "    print(content)"
   ]
  },
  {
   "cell_type": "code",
   "execution_count": 2,
   "metadata": {},
   "outputs": [
    {
     "name": "stdout",
     "output_type": "stream",
     "text": [
      "I want to become a Data Scientist.\n",
      "This is line 2.\n",
      "This is line 3.\n"
     ]
    }
   ],
   "source": [
    "'''\n",
    "2. readline() method:\n",
    "   The readline() method reads a single line of the file at a time.\n",
    "\n",
    "'''\n",
    "\n",
    "with open(\"aspiration.txt\",\"r\") as file:\n",
    "    line=file.readline()\n",
    "    while line:\n",
    "        print(line.strip())\n",
    "        line= file.readline()"
   ]
  },
  {
   "cell_type": "code",
   "execution_count": 4,
   "metadata": {},
   "outputs": [
    {
     "name": "stdout",
     "output_type": "stream",
     "text": [
      "I want to become a Data Scientist.\n",
      "This is line 2.\n",
      "This is line 3.\n"
     ]
    }
   ],
   "source": [
    "'''\n",
    "3. readlines() method:\n",
    "   The readlines() method reads the entire contents of the file into a list of strings, \n",
    "   with each string representing a single line of the file. \n",
    "\n",
    "'''\n",
    "\n",
    "with open(\"aspiration.txt\",\"r\") as file:\n",
    "    lines=file.readlines()\n",
    "    for line in lines:\n",
    "        print(line.strip())\n"
   ]
  },
  {
   "attachments": {},
   "cell_type": "markdown",
   "metadata": {},
   "source": [
    "Q5. Explain why with statement is used with open(). What is the advantage of using with statement and\n",
    "open() together?"
   ]
  },
  {
   "cell_type": "code",
   "execution_count": null,
   "metadata": {},
   "outputs": [],
   "source": [
    "'''\n",
    "1. The with statement works with the open() function to open a file.\n",
    "2. Unlike open() where you have to close the file with the close() method, the with statement \n",
    "   closes the file for you without you telling it to.\n",
    "3. This is because the with statement calls 2 built-in methods behind the scene: __enter()__ and \n",
    "   __exit()__.\n",
    "4. The __exit()__ method closes the file when the operation you specify is done.\n",
    "\n",
    "'''"
   ]
  },
  {
   "attachments": {},
   "cell_type": "markdown",
   "metadata": {},
   "source": [
    "Q6. Explain the write() and writelines() functions. Give a suitable example."
   ]
  },
  {
   "cell_type": "code",
   "execution_count": null,
   "metadata": {},
   "outputs": [],
   "source": [
    "'''\n",
    "In Python, the write() and writelines() functions are used to write data to a file. Here's an \n",
    "explanation of each method, along with example code:\n",
    "\n",
    "'''"
   ]
  },
  {
   "cell_type": "code",
   "execution_count": 8,
   "metadata": {},
   "outputs": [
    {
     "name": "stdout",
     "output_type": "stream",
     "text": [
      "Aspirations\n",
      "I want to be a Data Scientist.\n",
      "This is updated file.\n",
      "\n"
     ]
    }
   ],
   "source": [
    "'''\n",
    "1. write(): \n",
    "The write() method writes a string to a file.\n",
    "\n",
    "'''\n",
    "\n",
    "with open(\"aspirations.txt\",\"w\") as file:\n",
    "    file.write(\"Aspirations\\nI want to be a Data Scientist.\\nThis is updated file.\\n\")\n",
    "\n",
    "with open(\"aspirations.txt\",\"r\") as file:\n",
    "    cont=file.read()\n",
    "    print(cont)"
   ]
  },
  {
   "cell_type": "code",
   "execution_count": 11,
   "metadata": {},
   "outputs": [
    {
     "name": "stdout",
     "output_type": "stream",
     "text": [
      "Aspirations\n",
      "I want to be a DATA SCIENTIST.\n",
      "This file is writen using writelines() method\n"
     ]
    }
   ],
   "source": [
    "'''\n",
    "2. writelines() method:\n",
    "The writelines() method writes a list of strings to a file.\n",
    "\n",
    "'''\n",
    "with open(\"aspirations.txt\",\"w\") as file:\n",
    "    lines=[\"Aspirations\\n\",\"I want to be a DATA SCIENTIST.\\n\",\"This file is writen using writelines() method\"]\n",
    "    file.writelines(lines)\n",
    "\n",
    "with open(\"aspirations.txt\",\"r\") as file:\n",
    "    con=file.read()\n",
    "    print(con)"
   ]
  }
 ],
 "metadata": {
  "kernelspec": {
   "display_name": "Python 3",
   "language": "python",
   "name": "python3"
  },
  "language_info": {
   "codemirror_mode": {
    "name": "ipython",
    "version": 3
   },
   "file_extension": ".py",
   "mimetype": "text/x-python",
   "name": "python",
   "nbconvert_exporter": "python",
   "pygments_lexer": "ipython3",
   "version": "3.10.10"
  },
  "orig_nbformat": 4,
  "vscode": {
   "interpreter": {
    "hash": "288a281c2e3d16a7f601cda6e63e37fd7b42e9331047167925c3ee9da0ad7efc"
   }
  }
 },
 "nbformat": 4,
 "nbformat_minor": 2
}
