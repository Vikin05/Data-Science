{
 "cells": [
  {
   "attachments": {},
   "cell_type": "markdown",
   "metadata": {},
   "source": [
    "Q1. Create a vehicle class with an init method having instance variables as name_of_vehicle, max_speed\n",
    "and average_of_vehicle."
   ]
  },
  {
   "cell_type": "code",
   "execution_count": 3,
   "metadata": {},
   "outputs": [
    {
     "data": {
      "text/plain": [
       "100"
      ]
     },
     "execution_count": 3,
     "metadata": {},
     "output_type": "execute_result"
    }
   ],
   "source": [
    "class Vehicle:\n",
    "    def __init__(self,name_of_vehicle,max_speed,average_of_vehicle):\n",
    "        self.name_of_vehicle=name_of_vehicle\n",
    "        self.max_speed=max_speed\n",
    "        self.average_of_vehicle=average_of_vehicle\n",
    "\n",
    "# tata=Vehicle(\"Nexon EV\",240,100)\n",
    "# tata.average_of_vehicle\n"
   ]
  },
  {
   "attachments": {},
   "cell_type": "markdown",
   "metadata": {},
   "source": [
    "Q2. Create a child class car from the vehicle class created in Que 1, which will inherit the vehicle class.\n",
    "Create a method named seating_capacity which takes capacity as an argument and returns the name of\n",
    "the vehicle and its seating capacity."
   ]
  },
  {
   "cell_type": "code",
   "execution_count": 9,
   "metadata": {},
   "outputs": [
    {
     "data": {
      "text/plain": [
       "('Nexon', 6)"
      ]
     },
     "execution_count": 9,
     "metadata": {},
     "output_type": "execute_result"
    }
   ],
   "source": [
    "class Car(Vehicle):\n",
    "    def seating_capacity(self,capacity):\n",
    "        return self.name_of_vehicle,capacity\n",
    "\n",
    "tata=Car(\"Nexon\",240,100)\n",
    "tata.seating_capacity(6)\n"
   ]
  },
  {
   "attachments": {},
   "cell_type": "markdown",
   "metadata": {},
   "source": [
    "Q3. What is multiple inheritance? Write a python code to demonstrate multiple inheritance."
   ]
  },
  {
   "cell_type": "code",
   "execution_count": 12,
   "metadata": {},
   "outputs": [
    {
     "name": "stdout",
     "output_type": "stream",
     "text": [
      "Hello,I am Mom.\n",
      "Hello,I am Dad.\n"
     ]
    }
   ],
   "source": [
    "'''\n",
    "Multiple inheritance is a feature in object-oriented programming that allows a class to inherit from \n",
    "multiple parent classes. This means that a child class can have access to attributes and methods from \n",
    "all of its parent classes. In Python, multiple inheritance is implemented by listing the parent classes \n",
    "in the parentheses after the class name, separated by commas. If multiple parent classes have methods \n",
    "with the same name, the child class will inherit the method from the first parent listed in the parentheses. \n",
    "If you want to override a method inherited from a parent class, simply define a new method with the same \n",
    "name in the child class.\n",
    "\n",
    "'''\n",
    "class Mom:\n",
    "    def greet_mom(self):\n",
    "        print(\"Hello,I am Mom.\")\n",
    "\n",
    "class Dad:\n",
    "    def greet_dad(self):\n",
    "        print(\"Hello,I am Dad.\")\n",
    "\n",
    "class Kid(Mom,Dad):\n",
    "    pass\n",
    "\n",
    "c=Kid()\n",
    "c.greet_mom()\n",
    "c.greet_dad()\n"
   ]
  },
  {
   "attachments": {},
   "cell_type": "markdown",
   "metadata": {},
   "source": [
    "Q4. What are getter and setter in python? Create a class and create a getter and a setter method in this\n",
    "class."
   ]
  },
  {
   "cell_type": "code",
   "execution_count": 26,
   "metadata": {},
   "outputs": [
    {
     "name": "stdout",
     "output_type": "stream",
     "text": [
      "Varun\n",
      "9836367289\n",
      "Vikin\n",
      "97694343433\n"
     ]
    }
   ],
   "source": [
    "'''\n",
    "In Python, getters and setters are a way to control access to an object's attributes. They are used to encapsulate \n",
    "instance variables and provide a public interface to access and modify them.\n",
    "\n",
    "A getter is a method that retrieves the value of an attribute, while a setter is a method that sets the value of an\n",
    "attribute. The naming convention for getters and setters in Python is to use the name of the attribute as the method \n",
    "name, preceded by \"get_\" or \"set_\" respectively.\n",
    "\n",
    "'''\n",
    "\n",
    "class Person():\n",
    "    def __init__(self,name,phone):\n",
    "        self.__name=name\n",
    "        self.__phone=phone\n",
    "    \n",
    "    def get_name(self):\n",
    "        return self.__name\n",
    "    \n",
    "    def get_phone(self):\n",
    "        return self.__phone\n",
    "\n",
    "    def set_name(self,name):\n",
    "        self.__name=name\n",
    "\n",
    "    def set_phone(self,phone):\n",
    "        self.__phone=phone\n",
    "\n",
    "   \n",
    "\n",
    "p=Person(\"Varun\",\"9836367289\")\n",
    "print(p.get_name())\n",
    "print(p.get_phone())\n",
    "\n",
    "p.set_name(\"Vikin\")\n",
    "p.set_phone(\"97694343433\")\n",
    "print(p.get_name())\n",
    "print(p.get_phone())\n"
   ]
  },
  {
   "attachments": {},
   "cell_type": "markdown",
   "metadata": {},
   "source": [
    "Q5.What is method overriding in python? Write a python code to demonstrate method overriding."
   ]
  },
  {
   "cell_type": "code",
   "execution_count": 19,
   "metadata": {},
   "outputs": [
    {
     "name": "stdout",
     "output_type": "stream",
     "text": [
      "I am a Dog.\n"
     ]
    }
   ],
   "source": [
    "'''\n",
    "Method overriding is a feature in object-oriented programming that allows a subclass to provide a different \n",
    "implementation of a method that is already defined in its superclass. When a subclass defines a method with \n",
    "the same name and signature as a method in its superclass, the subclass's method overrides the superclass's \n",
    "method.\n",
    "\n",
    "In Python, method overriding is implemented simply by defining a method in the subclass with the same name \n",
    "as a method in the superclass. When an instance of the subclass is created and the overridden method is called, \n",
    "the subclass's implementation of the method will be used instead of the superclass's implementation.\n",
    "\n",
    "'''\n",
    "\n",
    "class Animal():\n",
    "    def speak(self):\n",
    "        print(\"I am an Animal.\")\n",
    "\n",
    "class Dog(Animal):\n",
    "    def speak(self):\n",
    "        print(\"I am a Dog.\")\n",
    "        #super().speak()\n",
    "\n",
    "d=Dog()\n",
    "d.speak()"
   ]
  }
 ],
 "metadata": {
  "kernelspec": {
   "display_name": "Python 3",
   "language": "python",
   "name": "python3"
  },
  "language_info": {
   "codemirror_mode": {
    "name": "ipython",
    "version": 3
   },
   "file_extension": ".py",
   "mimetype": "text/x-python",
   "name": "python",
   "nbconvert_exporter": "python",
   "pygments_lexer": "ipython3",
   "version": "3.10.10"
  },
  "orig_nbformat": 4,
  "vscode": {
   "interpreter": {
    "hash": "288a281c2e3d16a7f601cda6e63e37fd7b42e9331047167925c3ee9da0ad7efc"
   }
  }
 },
 "nbformat": 4,
 "nbformat_minor": 2
}
