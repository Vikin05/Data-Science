{
 "cells": [
  {
   "attachments": {},
   "cell_type": "markdown",
   "metadata": {},
   "source": [
    "Q1. What is an Exception in python? Write the difference between Exceptions and Syntax errors."
   ]
  },
  {
   "cell_type": "code",
   "execution_count": null,
   "metadata": {},
   "outputs": [],
   "source": [
    "'''\n",
    "* An exception in Python is an error that occurs during the execution of a program. When \n",
    "  an exception occurs, the normal flow of the program is disrupted, and the interpreter \n",
    "  raises an exception object.\n",
    "\n",
    "* Exceptions are generally caused by unexpected conditions or errors, such as incorrect \n",
    "  input data, insufficient resources, or programming errors. Examples of built-in exceptions \n",
    "  in Python include TypeError, ValueError, ZeroDivisionError, and FileNotFoundError.\n",
    "\n",
    "* Syntax errors, on the other hand, are errors that occur when the interpreter is unable to \n",
    "  parse the program's syntax. Syntax errors occur before the program is executed and are typically \n",
    "  caused by mistakes in the code, such as a missing or extra parentheses, a missing colon, or a \n",
    "  misspelled keyword. The interpreter will display an error message that identifies the line and \n",
    "  type of syntax error.\n",
    "\n",
    "* The main difference between syntax errors and exceptions is when they occur during the program \n",
    "  execution. Syntax errors occur before the program is executed and are caused by incorrect syntax \n",
    "  in the code. Exceptions, on the other hand, occur during the program execution and are caused by \n",
    "  unexpected conditions or errors that occur while the program is running. Syntax errors can be fixed \n",
    "  by correcting the code, while exceptions require specific error-handling code to be written in order\n",
    "  to handle them properly.\n",
    "\n",
    "'''"
   ]
  },
  {
   "attachments": {},
   "cell_type": "markdown",
   "metadata": {},
   "source": [
    "Q2. What happens when an exception is not handled? Explain with an example."
   ]
  },
  {
   "cell_type": "code",
   "execution_count": 1,
   "metadata": {},
   "outputs": [
    {
     "ename": "ZeroDivisionError",
     "evalue": "division by zero",
     "output_type": "error",
     "traceback": [
      "\u001b[1;31m---------------------------------------------------------------------------\u001b[0m",
      "\u001b[1;31mZeroDivisionError\u001b[0m                         Traceback (most recent call last)",
      "Cell \u001b[1;32mIn[1], line 4\u001b[0m\n\u001b[0;32m      1\u001b[0m a\u001b[39m=\u001b[39m\u001b[39m8\u001b[39m\n\u001b[0;32m      2\u001b[0m b\u001b[39m=\u001b[39m\u001b[39m0\u001b[39m\n\u001b[1;32m----> 4\u001b[0m div\u001b[39m=\u001b[39ma\u001b[39m/\u001b[39;49mb\n\u001b[0;32m      6\u001b[0m \u001b[39mprint\u001b[39m(div)\n",
      "\u001b[1;31mZeroDivisionError\u001b[0m: division by zero"
     ]
    }
   ],
   "source": [
    "'''\n",
    "When an exception is not handled in a program, the program will terminate abruptly, \n",
    "and a traceback message will be printed to the console. The traceback message shows \n",
    "the sequence of function calls that led to the exception and the type of exception \n",
    "that occurred.\n",
    "\n",
    "For example, consider the following code:\n",
    "\n",
    "'''\n",
    "\n",
    "a=8\n",
    "b=0\n",
    "\n",
    "div=a/b\n",
    "\n",
    "print(div)"
   ]
  },
  {
   "attachments": {},
   "cell_type": "markdown",
   "metadata": {},
   "source": [
    "Q3. Which Python statements are used to catch and handle exceptions? Explain with an example."
   ]
  },
  {
   "cell_type": "code",
   "execution_count": 6,
   "metadata": {},
   "outputs": [
    {
     "name": "stdout",
     "output_type": "stream",
     "text": [
      "Division by zero not possible\n",
      "None\n"
     ]
    }
   ],
   "source": [
    "'''\n",
    "To catch and handle exceptions in Python, you can use the try and except statements. The \n",
    "try statement encloses the code that may raise an exception, and the except statement specifies \n",
    "how to handle the exception if it occurs.\n",
    "\n",
    "'''\n",
    "\n",
    "a=8\n",
    "b=0\n",
    "\n",
    "try:\n",
    "    div=a/b\n",
    "except ZeroDivisionError as e:\n",
    "    print(\"Division by zero not possible\")\n",
    "    div=None\n",
    "\n",
    "print(div)"
   ]
  },
  {
   "attachments": {},
   "cell_type": "markdown",
   "metadata": {},
   "source": [
    "Q4. Explain with an example:\n",
    "\n",
    "a. try and else\n",
    "\n",
    "b. finally\n",
    "\n",
    "c. raise"
   ]
  },
  {
   "cell_type": "code",
   "execution_count": 11,
   "metadata": {},
   "outputs": [
    {
     "name": "stdout",
     "output_type": "stream",
     "text": [
      "7/2=3.5\n"
     ]
    }
   ],
   "source": [
    "'''\n",
    "a. try and else:\n",
    "In Python, you can use the try statement with an optional else block to specify \n",
    "code that should be executed if no exceptions occur in the try block. The else block \n",
    "is executed after the try block completes successfully, but before the finally block \n",
    "(if present). Here's an example:\n",
    "\n",
    "'''\n",
    "try:\n",
    "    num1=int(input(\"Enter the first number:\"))\n",
    "    num2=int(input(\"Enter the second number:\"))\n",
    "    div=num1/num2\n",
    "except ZeroDivisionError:\n",
    "    print(\"Division by zero not possible.\")\n",
    "except ValueError:\n",
    "    print(\"Invalid Input\")\n",
    "else:\n",
    "    print(f\"{num1}/{num2}={div}\")"
   ]
  },
  {
   "cell_type": "code",
   "execution_count": 17,
   "metadata": {},
   "outputs": [
    {
     "name": "stdout",
     "output_type": "stream",
     "text": [
      "File does not exist\n"
     ]
    }
   ],
   "source": [
    "'''\n",
    "b. finally:\n",
    "In Python, you can use the finally block with a try statement to specify code that should be \n",
    "executed regardless of whether an exception occurs or not. The finally block is executed after \n",
    "the try block completes, and any except or else blocks that were executed. \n",
    "Here's an example:\n",
    "\n",
    "'''\n",
    "\n",
    "try:\n",
    "    file=open(\"test.txt\",\"r\")\n",
    "    print(file.read())\n",
    "except FileNotFoundError:\n",
    "    print(\"File does not exist\")\n",
    "finally:\n",
    "    file.close()"
   ]
  },
  {
   "cell_type": "code",
   "execution_count": 19,
   "metadata": {},
   "outputs": [
    {
     "ename": "ValueError",
     "evalue": "Division by Zero is not possible",
     "output_type": "error",
     "traceback": [
      "\u001b[1;31m---------------------------------------------------------------------------\u001b[0m",
      "\u001b[1;31mValueError\u001b[0m                                Traceback (most recent call last)",
      "Cell \u001b[1;32mIn[19], line 12\u001b[0m\n\u001b[0;32m     10\u001b[0m b\u001b[39m=\u001b[39m\u001b[39m0\u001b[39m\n\u001b[0;32m     11\u001b[0m \u001b[39mif\u001b[39;00m b\u001b[39m==\u001b[39m\u001b[39m0\u001b[39m:\n\u001b[1;32m---> 12\u001b[0m     \u001b[39mraise\u001b[39;00m \u001b[39mValueError\u001b[39;00m(\u001b[39m\"\u001b[39m\u001b[39mDivision by Zero is not possible\u001b[39m\u001b[39m\"\u001b[39m)\n\u001b[0;32m     13\u001b[0m \u001b[39mprint\u001b[39m(\u001b[39mf\u001b[39m\u001b[39m\"\u001b[39m\u001b[39m{\u001b[39;00ma\u001b[39m}\u001b[39;00m\u001b[39m/\u001b[39m\u001b[39m{\u001b[39;00mb\u001b[39m}\u001b[39;00m\u001b[39m=\u001b[39m\u001b[39m{\u001b[39;00ma\u001b[39m/\u001b[39mb\u001b[39m}\u001b[39;00m\u001b[39m\"\u001b[39m)\n",
      "\u001b[1;31mValueError\u001b[0m: Division by Zero is not possible"
     ]
    }
   ],
   "source": [
    "'''\n",
    "c. raise:\n",
    "In Python, you can use the raise statement to raise an exception explicitly. This can \n",
    "be useful if you want to create your own exception type or handle a specific error \n",
    "condition in a customized way. Here's an example:\n",
    "\n",
    "'''\n",
    "\n",
    "a=8\n",
    "b=0\n",
    "if b==0:\n",
    "    raise ValueError(\"Division by Zero is not possible\")\n",
    "print(f\"{a}/{b}={a/b}\")\n"
   ]
  },
  {
   "attachments": {},
   "cell_type": "markdown",
   "metadata": {},
   "source": [
    "Q5. What are Custom Exceptions in python? Why do we need Custom Exceptions? Explain with an example."
   ]
  },
  {
   "cell_type": "code",
   "execution_count": 20,
   "metadata": {},
   "outputs": [
    {
     "ename": "NegativeDimensionError",
     "evalue": "Negative dimension not allowed",
     "output_type": "error",
     "traceback": [
      "\u001b[1;31m---------------------------------------------------------------------------\u001b[0m",
      "\u001b[1;31mNegativeDimensionError\u001b[0m                    Traceback (most recent call last)",
      "Cell \u001b[1;32mIn[20], line 19\u001b[0m\n\u001b[0;32m     17\u001b[0m length\u001b[39m=\u001b[39m\u001b[39m50\u001b[39m\n\u001b[0;32m     18\u001b[0m breadth\u001b[39m=\u001b[39m\u001b[39m-\u001b[39m\u001b[39m30\u001b[39m\n\u001b[1;32m---> 19\u001b[0m area\u001b[39m=\u001b[39mcalcArea(length,breadth)\n",
      "Cell \u001b[1;32mIn[20], line 14\u001b[0m, in \u001b[0;36mcalcArea\u001b[1;34m(l, b)\u001b[0m\n\u001b[0;32m     12\u001b[0m \u001b[39mdef\u001b[39;00m \u001b[39mcalcArea\u001b[39m(l,b):\n\u001b[0;32m     13\u001b[0m     \u001b[39mif\u001b[39;00m l\u001b[39m<\u001b[39m\u001b[39m0\u001b[39m \u001b[39mor\u001b[39;00m b\u001b[39m<\u001b[39m\u001b[39m0\u001b[39m:\n\u001b[1;32m---> 14\u001b[0m         \u001b[39mraise\u001b[39;00m NegativeDimensionError(\u001b[39m\"\u001b[39m\u001b[39mNegative dimension not allowed\u001b[39m\u001b[39m\"\u001b[39m)\n\u001b[0;32m     15\u001b[0m     \u001b[39mreturn\u001b[39;00m l\u001b[39m*\u001b[39mb\n",
      "\u001b[1;31mNegativeDimensionError\u001b[0m: Negative dimension not allowed"
     ]
    }
   ],
   "source": [
    "'''\n",
    "Custom exceptions, also known as user-defined exceptions, are exceptions that you can create \n",
    "in Python to represent specific error conditions that may occur in your program. You can define \n",
    "custom exceptions by creating a new class that inherits from the built-in Exception class or one \n",
    "of its subclasses.\n",
    "\n",
    "'''\n",
    "\n",
    "class NegativeDimensionError(Exception):\n",
    "    pass\n",
    "\n",
    "def calcArea(l,b):\n",
    "    if l<0 or b<0:\n",
    "        raise NegativeDimensionError(\"Negative dimension not allowed\")\n",
    "    return l*b\n",
    "\n",
    "length=50\n",
    "breadth=-30\n",
    "area=calcArea(length,breadth)\n",
    "\n",
    "'''\n",
    "In this code, we initialize the length and width variables. We call the calculate_area function with \n",
    "these variables and try to calculate the area. If the dimensions are invalid, we catch the \n",
    "NegativeDimensionError exception and print the error message. Otherwise, we print the area of the rectangle.\n",
    "\n",
    "'''"
   ]
  },
  {
   "attachments": {},
   "cell_type": "markdown",
   "metadata": {},
   "source": [
    "Q6. Create a custom exception class. Use this class to handle an exception."
   ]
  },
  {
   "cell_type": "code",
   "execution_count": 21,
   "metadata": {},
   "outputs": [
    {
     "name": "stdout",
     "output_type": "stream",
     "text": [
      "Insufficient funds: balance=100, amount=200\n"
     ]
    }
   ],
   "source": [
    "class InsufficientFundsError(Exception):\n",
    "    def __init__(self, balance, amount):\n",
    "        self.balance = balance\n",
    "        self.amount = amount\n",
    "\n",
    "    def __str__(self):\n",
    "        return f\"Insufficient funds: balance={self.balance}, amount={self.amount}\"\n",
    "\n",
    "def withdraw(balance, amount):\n",
    "    if amount > balance:\n",
    "        raise InsufficientFundsError(balance, amount)\n",
    "    return balance - amount\n",
    "\n",
    "try:\n",
    "    balance = 100\n",
    "    amount = 200\n",
    "    new_balance = withdraw(balance, amount)\n",
    "except InsufficientFundsError as e:\n",
    "    print(e)\n",
    "else:\n",
    "    print(f\"Withdrawal successful: new balance={new_balance}\")"
   ]
  }
 ],
 "metadata": {
  "kernelspec": {
   "display_name": "Python 3",
   "language": "python",
   "name": "python3"
  },
  "language_info": {
   "codemirror_mode": {
    "name": "ipython",
    "version": 3
   },
   "file_extension": ".py",
   "mimetype": "text/x-python",
   "name": "python",
   "nbconvert_exporter": "python",
   "pygments_lexer": "ipython3",
   "version": "3.10.10"
  },
  "orig_nbformat": 4,
  "vscode": {
   "interpreter": {
    "hash": "288a281c2e3d16a7f601cda6e63e37fd7b42e9331047167925c3ee9da0ad7efc"
   }
  }
 },
 "nbformat": 4,
 "nbformat_minor": 2
}
