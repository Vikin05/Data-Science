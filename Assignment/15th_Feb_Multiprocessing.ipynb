{
 "cells": [
  {
   "attachments": {},
   "cell_type": "markdown",
   "metadata": {},
   "source": [
    "Q1. What is multiprocessing in python? Why is it useful?"
   ]
  },
  {
   "cell_type": "code",
   "execution_count": null,
   "metadata": {},
   "outputs": [],
   "source": [
    "'''\n",
    "Multiprocessing in Python is a technique of executing multiple tasks or processes simultaneously using \n",
    "multiple CPUs or CPU cores. It allows developers to parallelize the execution of a program, breaking it \n",
    "up into smaller pieces that can be executed in parallel on different processors, which can lead to \n",
    "significant performance improvements.\n",
    "\n",
    "Multiprocessing is useful for several reasons:\n",
    "\n",
    "-Increased performance: By dividing a program into smaller, parallelizable tasks, multiprocessing can take \n",
    " advantage of multiple CPUs or CPU cores to execute those tasks simultaneously, leading to significant \n",
    " performance improvements.\n",
    "\n",
    "-Improved reliability: By running each process in a separate memory space, multiprocessing can improve the \n",
    " reliability of a program by isolating errors or crashes to individual processes, rather than causing the \n",
    " entire program to crash.\n",
    "\n",
    "-Improved scalability: Multiprocessing can help a program to scale better as the size of the input data or \n",
    " workload increases, by distributing the work across multiple processes or machines.\n",
    "\n",
    "-CPU-bound tasks: Multiprocessing is more suitable for CPU-bound tasks as it allows multiple processors to \n",
    " work together to compute data, unlike the threading module where multiple threads may not always result in \n",
    " better performance as they share the same resources and memory space.\n",
    "\n",
    "'''"
   ]
  },
  {
   "attachments": {},
   "cell_type": "markdown",
   "metadata": {},
   "source": [
    "Q2. What are the differences between multiprocessing and multithreading?"
   ]
  },
  {
   "cell_type": "code",
   "execution_count": null,
   "metadata": {},
   "outputs": [],
   "source": [
    "'''\n",
    "Multiprocessing and multithreading are both techniques used to execute multiple tasks concurrently. However, \n",
    "there are some key differences between the two:\n",
    "\n",
    "-Memory space: Multiprocessing creates separate memory spaces for each process, whereas multithreading shares \n",
    " the same memory space across all threads.\n",
    "\n",
    "-Communication and synchronization: Inter-process communication and synchronization in multiprocessing are more \n",
    " complex, as each process runs independently of the others, while in multithreading, communication and synchronization \n",
    " can be simpler, as threads can share the same memory space.\n",
    "\n",
    "-CPU-bound vs I/O-bound tasks: Multiprocessing is better suited for CPU-bound tasks, where computation is the bottleneck, \n",
    " while multithreading is better suited for I/O-bound tasks, where waiting for I/O operations is the bottleneck.\n",
    "\n",
    "-Resource usage: Multiprocessing may use more resources, as each process has its own memory space and overhead, while \n",
    " multithreading uses fewer resources as threads share the same memory space and have less overhead.\n",
    "\n",
    "-Fault isolation: In multiprocessing, a crash or error in one process does not affect the others, while in multithreading, \n",
    " a crash or error in one thread can cause the entire program to crash.\n",
    "\n",
    "Overall, multiprocessing is better suited for CPU-bound tasks that can benefit from parallelization, while multithreading \n",
    "is better suited for I/O-bound tasks that involve waiting for external operations to complete.\n",
    "\n",
    "'''"
   ]
  },
  {
   "attachments": {},
   "cell_type": "markdown",
   "metadata": {},
   "source": [
    "Q3. Write a python code to create a process using the multiprocessing module."
   ]
  },
  {
   "cell_type": "code",
   "execution_count": 1,
   "metadata": {},
   "outputs": [],
   "source": [
    "import multiprocessing\n",
    "\n",
    "def cubes(n):\n",
    "    return n**3\n",
    "\n",
    "if __name__=='__main__':\n",
    "    with multiprocessing.Pool(processes=4) as pool:\n",
    "        out=pool.map(cubes , [1,2,3,4,5])\n",
    "        pool.close()\n",
    "        pool.join()\n",
    "        print(out)"
   ]
  },
  {
   "attachments": {},
   "cell_type": "markdown",
   "metadata": {},
   "source": [
    "Q4. What is a multiprocessing pool in python? Why is it used?"
   ]
  },
  {
   "cell_type": "code",
   "execution_count": null,
   "metadata": {},
   "outputs": [],
   "source": [
    "'''\n",
    "-A multiprocessing pool in Python is a collection of worker processes that can be used to parallelize the \n",
    " execution of a function across multiple input values. The multiprocessing.Pool class provides a simple \n",
    " interface for creating and managing a pool of worker processes.\n",
    "\n",
    "-The pool object manages the creation and management of the worker processes, as well as the communication \n",
    " and synchronization between the main process and the worker processes.\n",
    "\n",
    "-The main advantage of using a pool is that it simplifies the process of parallelizing a function across \n",
    " multiple inputs. Instead of having to manually manage the creation and synchronization of multiple processes, \n",
    " the pool object provides a simple interface for doing so.\n",
    " \n",
    "'''"
   ]
  },
  {
   "attachments": {},
   "cell_type": "markdown",
   "metadata": {},
   "source": [
    "Q5. How can we create a pool of worker processes in python using the multiprocessing module?"
   ]
  },
  {
   "cell_type": "code",
   "execution_count": 5,
   "metadata": {},
   "outputs": [],
   "source": [
    "#We can create a pool of worker processes in Python using the multiprocessing.Pool class. \n",
    "\n",
    "import multiprocessing\n",
    "\n",
    "# Define a function to be executed by the worker processes\n",
    "def worker_function(n):\n",
    "    # do some work here\n",
    "    return n**2\n",
    "\n",
    "if __name__ == '__main__':\n",
    "    # Create a pool of 4 worker processes\n",
    "    pool = multiprocessing.Pool(processes=4)\n",
    "\n",
    "    # Submit tasks to the pool for execution\n",
    "    results = pool.map(worker_function, [1,2,3,4,5])\n",
    "\n",
    "    # Close the pool to prevent further submissions\n",
    "    pool.close()\n",
    "\n",
    "    # Wait for all tasks to complete and collect the results\n",
    "    pool.join()\n",
    "\n",
    "    # Process the results as needed\n",
    "    print(results)"
   ]
  },
  {
   "attachments": {},
   "cell_type": "markdown",
   "metadata": {},
   "source": [
    "Q6. Write a python program to create 4 processes, each process should print a different number using the\n",
    "multiprocessing module in python."
   ]
  },
  {
   "cell_type": "code",
   "execution_count": 5,
   "metadata": {},
   "outputs": [
    {
     "name": "stdout",
     "output_type": "stream",
     "text": [
      "Process finished in 0.24 seconds\n"
     ]
    }
   ],
   "source": [
    "import multiprocessing\n",
    "import time \n",
    "\n",
    "start = time.perf_counter()\n",
    "\n",
    "def print_number(num):\n",
    "    print(f\"Process ID: {multiprocessing.current_process().name}, Number: {num}\")\n",
    "\n",
    "if __name__ == '__main__':\n",
    "    processes = []\n",
    "    for i in range(1, 5):\n",
    "        process = multiprocessing.Process(target=print_number, args=(i,))\n",
    "        processes.append(process)\n",
    "        process.start()\n",
    "\n",
    "    for process in processes:\n",
    "        process.join()\n",
    "\n",
    "    finish = time.perf_counter()\n",
    "    \n",
    "    print(f\"Process finished in {round(finish-start,2)} seconds\")"
   ]
  }
 ],
 "metadata": {
  "kernelspec": {
   "display_name": "Python 3",
   "language": "python",
   "name": "python3"
  },
  "language_info": {
   "codemirror_mode": {
    "name": "ipython",
    "version": 3
   },
   "file_extension": ".py",
   "mimetype": "text/x-python",
   "name": "python",
   "nbconvert_exporter": "python",
   "pygments_lexer": "ipython3",
   "version": "3.10.10"
  },
  "orig_nbformat": 4
 },
 "nbformat": 4,
 "nbformat_minor": 2
}
