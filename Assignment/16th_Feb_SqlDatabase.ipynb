{
 "cells": [
  {
   "cell_type": "markdown",
   "metadata": {},
   "source": [
    "Q1. What is a database? Differentiate between SQL and NoSQL databases."
   ]
  },
  {
   "cell_type": "code",
   "execution_count": null,
   "metadata": {},
   "outputs": [],
   "source": [
    "'''\n",
    "-A database is a collection of structured data that is organized in a way that enables efficient \n",
    " storage, retrieval, and manipulation of information. Databases are widely used in computer \n",
    " applications and are used to store various types of data, such as user profiles, financial records, \n",
    " inventory data, and much more.\n",
    "\n",
    "-SQL and NoSQL are two different types of databases that differ in their data models and querying \n",
    " languages. Here's a brief overview of each:\n",
    "\n",
    "SQL databases:\n",
    "\n",
    "-SQL stands for Structured Query Language, which is a standard language used to manage and manipulate \n",
    " relational databases.\n",
    "-SQL databases are structured around tables with predefined schemas that define the columns and data \n",
    " types that are allowed in each column.\n",
    "-Data is stored in tables and relationships between tables are established using foreign keys.\n",
    "-SQL databases are highly structured, making them well suited for complex queries and transactions.\n",
    "-Examples of SQL databases include Oracle, MySQL, Microsoft SQL Server, and PostgreSQL.\n",
    "\n",
    "\n",
    "NoSQL databases:\n",
    "\n",
    "-NoSQL stands for \"not only SQL\", which means it doesn't rely solely on the SQL language to manage and \n",
    " manipulate data.\n",
    "-NoSQL databases have a more flexible data model than SQL databases, allowing them to handle \n",
    " unstructured, semi-structured, and highly variable data.\n",
    "-Instead of tables, data is stored in a variety of formats such as documents, key-value pairs, graphs, \n",
    " and columns.\n",
    "-NoSQL databases are highly scalable and perform well in distributed environments.\n",
    "-Examples of NoSQL databases include MongoDB, Cassandra, Couchbase, and Redis.\n",
    "\n",
    "'''"
   ]
  },
  {
   "cell_type": "markdown",
   "metadata": {},
   "source": [
    "Q2. What is DDL? Explain why CREATE, DROP, ALTER, and TRUNCATE are used with an example."
   ]
  },
  {
   "cell_type": "code",
   "execution_count": null,
   "metadata": {},
   "outputs": [],
   "source": [
    "'''\n",
    "DDL stands for Data Definition Language, which is a subset of SQL used to define and manage the \n",
    "structure of database objects such as tables, indexes, and constraints.\n",
    "\n",
    "The following are the commonly used DDL commands and their purposes:\n",
    "\n",
    "1. CREATE: This command is used to create a new database object such as a table, index, view, or \n",
    "trigger. For example, the following SQL statement creates a new table named \"students\" with \n",
    "three columns - id, name, and age:\n",
    "\n",
    "#Example\n",
    "CREATE TABLE students (\n",
    "   id INT PRIMARY KEY,\n",
    "   name VARCHAR(50),\n",
    "   age INT\n",
    ");\n",
    "\n",
    "\n",
    "2. DROP: This command is used to delete an existing database object. For example, the following SQL \n",
    "statement drops the \"students\" table:\n",
    "\n",
    "#Example\n",
    "DROP TABLE students;\n",
    "\n",
    "\n",
    "3. ALTER: This command is used to modify the structure of an existing database object such as adding \n",
    "or removing columns, modifying constraints, or changing the data type of a column. For example, \n",
    "the following SQL statement adds a new column named \"email\" to the \"students\" table:\n",
    "\n",
    "#Example\n",
    "ALTER TABLE students ADD COLUMN email VARCHAR(50);\n",
    "\n",
    "\n",
    "4. TRUNCATE: This command is used to remove all data from an existing table. For example, the following \n",
    "SQL statement removes all data from the \"students\" table:\n",
    "\n",
    "#Example\n",
    "TRUNCATE TABLE students;\n",
    "\n",
    "In summary, DDL commands such as CREATE, DROP, ALTER, and TRUNCATE are used to manage the structure \n",
    "of database objects such as tables, indexes, and constraints. These commands allow database administrators \n",
    "and developers to create new objects, modify existing ones, and remove objects that are no longer needed.\n",
    "\n",
    "'''"
   ]
  },
  {
   "cell_type": "markdown",
   "metadata": {},
   "source": [
    "Q3. What is DML? Explain INSERT, UPDATE, and DELETE with an example."
   ]
  },
  {
   "cell_type": "code",
   "execution_count": null,
   "metadata": {},
   "outputs": [],
   "source": [
    "'''\n",
    "DML stands for Data Manipulation Language, which is a subset of SQL used to manipulate data in a database.\n",
    "\n",
    "The following are the commonly used DML commands and their purposes:\n",
    "\n",
    "1. INSERT: This command is used to insert new data into a table. For example, the following SQL statement \n",
    "inserts a new row into the \"students\" table:\n",
    "\n",
    "#Example\n",
    "INSERT INTO students (id, name, age) VALUES (1, 'John Doe', 20);\n",
    "\n",
    "\n",
    "2. UPDATE: This command is used to modify existing data in a table. For example, the following SQL statement \n",
    "updates the age of the student with id 1 to 21:\n",
    "\n",
    "#Example\n",
    "UPDATE students SET age = 21 WHERE id = 1;\n",
    "\n",
    "\n",
    "3. DELETE: This command is used to remove data from a table. For example, the following SQL statement deletes \n",
    "the row with id 1 from the \"students\" table:\n",
    "\n",
    "#Example\n",
    "DELETE FROM students WHERE id = 1;\n",
    "\n",
    "\n",
    "In summary, DML commands such as INSERT, UPDATE, and DELETE are used to manipulate data in a database. These \n",
    "commands allow database administrators and developers to insert new data into tables, modify existing data, \n",
    "and delete data that is no longer needed.\n",
    "\n",
    "'''"
   ]
  },
  {
   "cell_type": "markdown",
   "metadata": {},
   "source": [
    "Q4. What is DQL? Explain SELECT with an example."
   ]
  },
  {
   "cell_type": "code",
   "execution_count": null,
   "metadata": {},
   "outputs": [],
   "source": [
    "'''\n",
    "DQL stands for Data Query Language, which is a subset of SQL used to retrieve data from a database.\n",
    "\n",
    "The most commonly used DQL command is SELECT, which is used to retrieve data from one or more tables \n",
    "in a database. The SELECT statement includes a list of columns to retrieve, the table or tables to \n",
    "retrieve data from, and an optional set of conditions to filter the results.\n",
    "\n",
    "Here's an example of a SELECT statement that retrieves all columns from the \"students\" table:\n",
    "\n",
    "SELECT * FROM students;\n",
    "\n",
    "This statement retrieves all the data from the \"students\" table. The \"*\" is a wildcard character that \n",
    "specifies that all columns should be retrieved.\n",
    "\n",
    "Here's an example of a SELECT statement that retrieves specific columns from the \"students\" table and \n",
    "filters the results based on a condition:\n",
    "\n",
    "SELECT name, age FROM students WHERE age > 18;\n",
    "\n",
    "This statement retrieves only the \"name\" and \"age\" columns from the \"students\" table where the \"age\" is \n",
    "greater than 18.\n",
    "\n",
    "In summary, DQL commands such as SELECT are used to retrieve data from a database. These commands allow \n",
    "database administrators and developers to retrieve specific data from tables, filter the results based \n",
    "on conditions, and aggregate data using functions such as SUM, COUNT, and AVG.\n",
    "\n",
    "'''"
   ]
  },
  {
   "cell_type": "markdown",
   "metadata": {},
   "source": [
    "Q5. Explain Primary Key and Foreign Key."
   ]
  },
  {
   "cell_type": "code",
   "execution_count": null,
   "metadata": {},
   "outputs": [],
   "source": [
    "'''\n",
    "Primary Key:\n",
    "A primary key is a unique identifier for a record in a database table. It is a column or set of columns \n",
    "that uniquely identifies each row in a table. The primary key cannot be null and must have a unique value \n",
    "for each record in the table. It is used to ensure data integrity, as it enforces the uniqueness constraint \n",
    "on the table. The primary key can be a single column or a combination of columns, and it is used to link \n",
    "tables together.\n",
    "\n",
    "Foreign Key:\n",
    "A foreign key is a column or set of columns in a table that references the primary key of another table. \n",
    "It establishes a link between two tables and enforces referential integrity between them. A foreign key is \n",
    "used to ensure that the values in the referencing table match the values in the referenced table. It is used \n",
    "to maintain consistency in the data between the two tables. A foreign key can be null, but if it has a value, \n",
    "it must match a value in the referenced table's primary key.\n",
    "\n",
    "In summary, a primary key is used to uniquely identify each record in a table, while a foreign key is used to \n",
    "establish a relationship between two tables and maintain referential integrity.\n",
    "\n",
    "'''"
   ]
  },
  {
   "cell_type": "markdown",
   "metadata": {},
   "source": [
    "Q6. Write a python code to connect MySQL to python. Explain the cursor() and execute() method."
   ]
  },
  {
   "cell_type": "code",
   "execution_count": 4,
   "metadata": {},
   "outputs": [
    {
     "name": "stdout",
     "output_type": "stream",
     "text": [
      "('information_schema',)\n",
      "('mysql',)\n",
      "('performance_schema',)\n",
      "('sys',)\n",
      "('test',)\n"
     ]
    }
   ],
   "source": [
    "'''\n",
    "1. cursor(): The cursor() method creates a cursor object that can be used to execute SQL queries on the database. \n",
    "\n",
    "2. execute(): The execute() method is used to execute an SQL query on the database using the cursor object. The execute() \n",
    "   method takes an SQL query as its parameter. \n",
    "\n",
    "'''\n",
    "import mysql.connector\n",
    "\n",
    "mydb=mysql.connector.connect(\n",
    "  host=\"localhost\",\n",
    "  user=\"abc\",\n",
    "  password=\"password\"\n",
    ")\n",
    "\n",
    "mycursor=mydb.cursor()\n",
    "\n",
    "mycursor.execute(\"Show databases\")\n",
    "\n",
    "for i in mycursor:\n",
    "    print(i)\n",
    "\n"
   ]
  },
  {
   "cell_type": "markdown",
   "metadata": {},
   "source": [
    "Q7. Give the order of execution of SQL clauses in an SQL query."
   ]
  },
  {
   "cell_type": "code",
   "execution_count": null,
   "metadata": {},
   "outputs": [],
   "source": [
    "'''\n",
    "The order of execution of SQL clauses in an SQL query is as follows:\n",
    "\n",
    "FROM clause: The FROM clause is the first clause executed in an SQL query. It specifies the table or \n",
    "tables from which the data will be retrieved.\n",
    "\n",
    "WHERE clause: The WHERE clause is the next clause executed in an SQL query. It specifies the conditions \n",
    "that must be met for a record to be selected.\n",
    "\n",
    "GROUP BY clause: The GROUP BY clause is executed after the WHERE clause. It is used to group the result \n",
    "set based on one or more columns.\n",
    "\n",
    "HAVING clause: The HAVING clause is executed after the GROUP BY clause. It specifies the conditions that \n",
    "must be met for a group of records to be included in the result set.\n",
    "\n",
    "SELECT clause: The SELECT clause is executed after the WHERE, GROUP BY, and HAVING clauses. It specifies \n",
    "the columns to be retrieved from the table or tables.\n",
    "\n",
    "ORDER BY clause: The ORDER BY clause is executed last in an SQL query. It is used to sort the result set \n",
    "in ascending or descending order based on one or more columns.\n",
    "\n",
    "\n",
    "'''"
   ]
  }
 ],
 "metadata": {
  "kernelspec": {
   "display_name": "Python 3.8.10 64-bit",
   "language": "python",
   "name": "python3"
  },
  "language_info": {
   "codemirror_mode": {
    "name": "ipython",
    "version": 3
   },
   "file_extension": ".py",
   "mimetype": "text/x-python",
   "name": "python",
   "nbconvert_exporter": "python",
   "pygments_lexer": "ipython3",
   "version": "3.8.10"
  },
  "orig_nbformat": 4,
  "vscode": {
   "interpreter": {
    "hash": "e7370f93d1d0cde622a1f8e1c04877d8463912d04d973331ad4851f04de6915a"
   }
  }
 },
 "nbformat": 4,
 "nbformat_minor": 2
}
