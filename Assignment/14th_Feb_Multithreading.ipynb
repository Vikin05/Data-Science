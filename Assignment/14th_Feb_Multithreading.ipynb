{
 "cells": [
  {
   "attachments": {},
   "cell_type": "markdown",
   "metadata": {},
   "source": [
    "Q1. What is multithreading in python? Why is it used? Name the module used to handle threads in python."
   ]
  },
  {
   "cell_type": "code",
   "execution_count": null,
   "metadata": {},
   "outputs": [],
   "source": [
    "'''\n",
    "- Multithreading in Python is a technique where a single program can run multiple threads \n",
    "  (smaller units of execution) within a process. Each thread can run independently, allowing \n",
    "  different parts of the program to execute simultaneously.\n",
    "\n",
    "- Multithreading is used in Python to achieve parallelism, which can improve the performance \n",
    "  of applications that require concurrent processing of multiple tasks. Some examples include \n",
    "  downloading files while processing data, handling multiple requests in a web server, or running \n",
    "  multiple simulations in a scientific application.\n",
    "\n",
    "- Python provides a built-in threading module for working with threads. This module provides classes \n",
    "  and functions for creating and managing threads, as well as synchronization primitives such as locks, \n",
    "  events, and semaphores to coordinate the execution of threads.\n",
    "\n",
    "- The threading module supports both low-level and high-level interfaces for working with threads. \n",
    "  The low-level interface provides more control over thread creation and management, while the \n",
    "  high-level interface provides simpler constructs such as the Thread class, which makes it easier to \n",
    "  create and manage threads.\n",
    "\n",
    "'''"
   ]
  },
  {
   "attachments": {},
   "cell_type": "markdown",
   "metadata": {},
   "source": [
    "Q2. Why threading module used? Write the use of the following functions\n",
    "a. activeCount\n",
    "b. currentThread\n",
    "c. enumerate"
   ]
  },
  {
   "cell_type": "code",
   "execution_count": null,
   "metadata": {},
   "outputs": [],
   "source": [
    "'''\n",
    "\n",
    "- The threading module in Python is used to create and manage threads in a program. It provides a way \n",
    "  to execute multiple threads in parallel, allowing for concurrent execution of multiple tasks.\n",
    "\n",
    "Here's the use of the following functions in the threading module:\n",
    "\n",
    "a. activeCount(): This function returns the number of currently active threads in the program, including \n",
    "   the main thread. It can be useful for monitoring the progress of a multi-threaded program.\n",
    "\n",
    "b. currentThread(): This function returns the current thread object. It can be useful for getting \n",
    "   information about the current thread, such as its name or ID. \n",
    "\n",
    "c. enumerate(): This function returns a list of all currently active thread objects. It can be useful \n",
    "   for iterating over all active threads and performing some action on each one.\n",
    "\n",
    "   \n",
    "'''"
   ]
  },
  {
   "attachments": {},
   "cell_type": "markdown",
   "metadata": {},
   "source": [
    "Q3. Explain the following functions\n",
    "a. run\n",
    "b. start\n",
    "c. join\n",
    "d. isAlive"
   ]
  },
  {
   "cell_type": "code",
   "execution_count": null,
   "metadata": {},
   "outputs": [],
   "source": [
    "'''\n",
    "a. run(): This method is called when a thread is started using the start() method. It is typically overridden \n",
    "   in a subclass to define the thread's behavior. The default implementation of this method does nothing.\n",
    "\n",
    "b. start(): This method starts the thread's activity by calling its run() method. The thread will continue \n",
    "   running until its run() method returns or is terminated using other means.\n",
    "\n",
    "c. join(): This method blocks the calling thread until the thread whose join() method is called has completed. \n",
    "   It can be used to ensure that a thread has finished executing before continuing with the rest of the program.\n",
    "\n",
    "d. isAlive(): This method returns True if the thread is currently running, and False otherwise. It can be used \n",
    "   to check if a thread is still active before joining it.\n",
    "\n",
    "'''"
   ]
  },
  {
   "attachments": {},
   "cell_type": "markdown",
   "metadata": {},
   "source": [
    "Q4. Write a python program to create two threads. Thread one must print the list of squares and thread\n",
    "two must print the list of cubes"
   ]
  },
  {
   "cell_type": "code",
   "execution_count": 10,
   "metadata": {},
   "outputs": [
    {
     "name": "stdout",
     "output_type": "stream",
     "text": [
      "Cube of 0:0\n",
      "Square of 0:0\n",
      "\n",
      "\n",
      "Cube of 1:1\n",
      "Square of 1:1\n",
      "\n",
      "\n",
      "Square of 2:4\n",
      "\n",
      "Cube of 2:8\n",
      "\n",
      "Cube of 3:27\n",
      "Square of 3:9\n",
      "\n",
      "\n",
      "Square of 4:16\n",
      "Cube of 4:64\n",
      "\n",
      "\n",
      "Cube of 5:125\n",
      "Square of 5:25\n",
      "\n",
      "\n",
      "Cube of 6:216\n",
      "Square of 6:36\n",
      "\n",
      "\n",
      "Square of 7:49\n",
      "Cube of 7:343\n",
      "\n",
      "\n",
      "Cube of 8:512\n",
      "Square of 8:64\n",
      "\n",
      "\n",
      "Cube of 9:729\n",
      "Square of 9:81\n",
      "\n",
      "\n"
     ]
    }
   ],
   "source": [
    "from threading import Thread\n",
    "import time\n",
    "\n",
    "def square_list():\n",
    "    for i in range(10):\n",
    "        s=i**2\n",
    "        time.sleep(1)\n",
    "        print(f\"Square of {i}:{s}\\n\")\n",
    "        \n",
    "\n",
    "def cube_list():\n",
    "    for i in range(10):\n",
    "        c=i**3\n",
    "        time.sleep(1)\n",
    "        print(f\"Cube of {i}:{c}\\n\")\n",
    "        \n",
    "\n",
    "s= Thread(target=square_list)\n",
    "c= Thread(target=cube_list)\n",
    "\n",
    "s.start()\n",
    "c.start()\n",
    "\n",
    "s.join()\n",
    "c.join()\n",
    "\n"
   ]
  },
  {
   "attachments": {},
   "cell_type": "markdown",
   "metadata": {},
   "source": [
    "Q5. State advantages and disadvantages of multithreading"
   ]
  },
  {
   "cell_type": "code",
   "execution_count": null,
   "metadata": {},
   "outputs": [],
   "source": [
    "'''\n",
    "Multithreading has several advantages and disadvantages:\n",
    "\n",
    "Advantages:\n",
    "\n",
    "-Improved performance: Multithreading can improve the performance of a program by allowing multiple \n",
    " threads to execute concurrently on a multicore processor. This can lead to faster execution times and \n",
    " a better user experience.\n",
    "\n",
    "-Resource sharing: Threads can share resources such as memory and data structures, which can reduce the \n",
    " overhead of creating and managing separate processes.\n",
    "\n",
    "-Responsiveness: Multithreading can make a program more responsive by allowing tasks to be performed in \n",
    " the background while the user interacts with the program.\n",
    "\n",
    "-Modularity: Multithreading can make it easier to write modular code by allowing separate threads to \n",
    " handle separate tasks.\n",
    "\n",
    "Disadvantages:\n",
    "\n",
    "-Synchronization: Multithreading requires synchronization mechanisms to ensure that shared resources are \n",
    " accessed in a safe and consistent manner. This can be complex and error-prone, and can lead to bugs such \n",
    " as race conditions and deadlocks.\n",
    "\n",
    "-Overhead: Multithreading can introduce overhead such as context switching, which can reduce performance \n",
    " if the threads are not well-designed.\n",
    "\n",
    "-Debugging: Debugging multithreaded programs can be difficult due to the potential for race conditions and \n",
    " other concurrency-related bugs.\n",
    "\n",
    "-Complexity: Multithreaded programs can be more complex than single-threaded programs, which can make them \n",
    " harder to understand and maintain.\n",
    "\n",
    "In summary, multithreading can provide significant benefits in terms of performance, responsiveness, and \n",
    "resource sharing, but it also introduces challenges related to synchronization, debugging, and complexity. \n",
    "It is important to carefully design and test multithreaded programs to ensure that they are correct and efficient.\n",
    "\n",
    "'''"
   ]
  },
  {
   "attachments": {},
   "cell_type": "markdown",
   "metadata": {},
   "source": [
    "Q6. Explain deadlocks and race conditions."
   ]
  },
  {
   "cell_type": "code",
   "execution_count": null,
   "metadata": {},
   "outputs": [],
   "source": [
    "'''\n",
    "Deadlocks and race conditions are two common problems that can occur in multithreaded programs:\n",
    "\n",
    "Deadlocks: A deadlock occurs when two or more threads are blocked and unable to continue executing because they \n",
    "are waiting for each other to release resources. This can happen when two threads each hold a resource that the \n",
    "other needs, or when two threads are waiting for each other to release a lock. Deadlocks can cause a program to \n",
    "hang or crash, and can be difficult to detect and resolve.\n",
    "\n",
    "Race conditions: A race condition occurs when two or more threads access a shared resource simultaneously, and \n",
    "the outcome depends on the order in which the threads execute. This can happen when two threads try to update a \n",
    "shared variable at the same time, or when one thread reads a value that another thread is in the process of updating. \n",
    "Race conditions can cause a program to behave unpredictably, and can be difficult to reproduce and debug.\n",
    "\n",
    "'''"
   ]
  }
 ],
 "metadata": {
  "kernelspec": {
   "display_name": "Python 3",
   "language": "python",
   "name": "python3"
  },
  "language_info": {
   "codemirror_mode": {
    "name": "ipython",
    "version": 3
   },
   "file_extension": ".py",
   "mimetype": "text/x-python",
   "name": "python",
   "nbconvert_exporter": "python",
   "pygments_lexer": "ipython3",
   "version": "3.10.10"
  },
  "orig_nbformat": 4
 },
 "nbformat": 4,
 "nbformat_minor": 2
}
