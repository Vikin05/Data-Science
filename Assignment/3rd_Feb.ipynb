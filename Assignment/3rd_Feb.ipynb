{
 "cells": [
  {
   "attachments": {},
   "cell_type": "markdown",
   "metadata": {},
   "source": [
    "Q1. Which keyword is used to create a function? Create a function to return a list of odd numbers in the  range of 1 to 25. "
   ]
  },
  {
   "cell_type": "code",
   "execution_count": 2,
   "metadata": {},
   "outputs": [
    {
     "name": "stdout",
     "output_type": "stream",
     "text": [
      "1 3 5 7 9 11 13 15 17 19 21 23 25 "
     ]
    }
   ],
   "source": [
    "#'def' keyword is used to create a function\n",
    "\n",
    "def oddNum():\n",
    "    for i in range(1,26):\n",
    "        if i%2==1:\n",
    "            print(f\"{i} \",end=\"\")\n",
    "\n",
    "oddNum()\n"
   ]
  },
  {
   "attachments": {},
   "cell_type": "markdown",
   "metadata": {},
   "source": [
    "Q2. Why *args and **kwargs is used in some functions? Create a function each for *args and **kwargs to  demonstrate their use."
   ]
  },
  {
   "cell_type": "code",
   "execution_count": 8,
   "metadata": {},
   "outputs": [
    {
     "name": "stdout",
     "output_type": "stream",
     "text": [
      "args demo:\n",
      "1 2 demo [1, 2, 3] \n",
      "\n",
      "kwargs demo:\n",
      "Ram:90 \n",
      "Shaam:85 \n",
      "Prem:70 \n"
     ]
    }
   ],
   "source": [
    "'''\n",
    "*args and **kwargs are used in functions to allow the function to accept a varying number of arguments. The asterisk (*) \n",
    "is used to pass a variable number of non-keyword arguments to a function, and two asterisks (**) are used to pass a keyworded, \n",
    "variable-length argument list.\n",
    "\n",
    "'''\n",
    "\n",
    "#Args Demo\n",
    "def demoArgs(*args):\n",
    "    for arg in args:\n",
    "        print(f\"{arg} \",end=\"\")\n",
    "print(\"args demo:\")\n",
    "demoArgs(1,2,\"demo\",[1,2,3])\n",
    "\n",
    "#Kwargs Demo\n",
    "def demoKwargs(**kwargs):\n",
    "    for key, value in kwargs.items():\n",
    "        print(f\"{key}:{value} \")\n",
    "print(\"\\n\")\n",
    "print(\"kwargs demo:\")\n",
    "demoKwargs(Ram=90,Shaam=85,Prem=70)"
   ]
  },
  {
   "attachments": {},
   "cell_type": "markdown",
   "metadata": {},
   "source": [
    "Q3.  What is an iterator in python? Name the method used to initialise the iterator object and the method  used for iteration. Use these methods to print the first five elements of the given list \n",
    "[2, 4, 6, 8, 10, 12, 14, 16,  18, 20]."
   ]
  },
  {
   "cell_type": "code",
   "execution_count": 11,
   "metadata": {},
   "outputs": [
    {
     "name": "stdout",
     "output_type": "stream",
     "text": [
      "2\n",
      "4\n",
      "6\n",
      "8\n",
      "10\n",
      "12\n",
      "14\n",
      "16\n",
      "18\n",
      "20\n"
     ]
    }
   ],
   "source": [
    "'''\n",
    "An iterator in Python is an object that implements two methods: __iter__ and __next__. The __iter__ method returns \n",
    "the iterator object itself, and the __next__ method returns the next item from the sequence being iterated.\n",
    "\n",
    "Iterators are used to represent a stream of data, and they allow you to traverse that data one item at a time. For\n",
    "example, a list is an iterable object, but not an iterator. To use a list as an iterator, you need to convert it into \n",
    "an iterator using the iter() function. Once you have an iterator, you can use the next() function to get the next item \n",
    "in the sequence.\n",
    "\n",
    "'''\n",
    "\n",
    "l=[2, 4, 6, 8, 10, 12, 14, 16,  18, 20]\n",
    "num_iterator=iter(l)\n",
    "for n in num_iterator:\n",
    "    print(n)"
   ]
  },
  {
   "attachments": {},
   "cell_type": "markdown",
   "metadata": {},
   "source": [
    "Q4.  What is a generator function in python? Why yield keyword is used? Give an example of a generator  function."
   ]
  },
  {
   "cell_type": "code",
   "execution_count": 3,
   "metadata": {},
   "outputs": [
    {
     "name": "stdout",
     "output_type": "stream",
     "text": [
      "0\n",
      "1\n",
      "1\n",
      "2\n",
      "3\n",
      "5\n",
      "8\n",
      "13\n",
      "21\n",
      "34\n"
     ]
    }
   ],
   "source": [
    "'''\n",
    "A generator function in Python is a special type of function that uses the yield keyword instead of return. When \n",
    "a generator function is called, it returns a generator object, but does not execute the function's body immediately. The \n",
    "function's body is executed only when the generator's __next__ method is called.\n",
    "\n",
    "The yield keyword is used to produce a value, which is returned to the caller and the function's state is saved. The \n",
    "next time the generator's __next__ method is called, the function resumes from where it left off and executes until it \n",
    "encounters the next yield statement. This process continues until the function returns or raises a StopIteration exception.\n",
    "\n",
    "'''\n",
    "\n",
    "def fibo():\n",
    "    a,b=0,1\n",
    "    while True:\n",
    "        yield(a)\n",
    "        a,b=b,a+b\n",
    "\n",
    "f=fibo()\n",
    "\n",
    "for i in range(10):\n",
    "    print(next(f))"
   ]
  },
  {
   "attachments": {},
   "cell_type": "markdown",
   "metadata": {},
   "source": [
    "Q5. Create a generator function for prime numbers less than 1000. Use the next() method to print the  first 20 prime numbers. "
   ]
  },
  {
   "cell_type": "code",
   "execution_count": 15,
   "metadata": {},
   "outputs": [
    {
     "name": "stdout",
     "output_type": "stream",
     "text": [
      "2 3 5 7 11 13 17 19 23 29 31 37 41 43 47 53 59 61 67 71 "
     ]
    }
   ],
   "source": [
    "def prime():\n",
    "    for num in range(2,10001):\n",
    "        flag=1\n",
    "        i=2\n",
    "        while(i<=num/2):\n",
    "            #print(\"Inside while\")\n",
    "            if num%i==0:\n",
    "                flag=0\n",
    "                break\n",
    "            i+=1\n",
    "        if flag==1:\n",
    "            yield num\n",
    "\n",
    "p=prime()\n",
    "\n",
    "for i in range(1,21):\n",
    "    print(f\"{next(p)} \",end=\"\")\n"
   ]
  }
 ],
 "metadata": {
  "kernelspec": {
   "display_name": "Python 3",
   "language": "python",
   "name": "python3"
  },
  "language_info": {
   "codemirror_mode": {
    "name": "ipython",
    "version": 3
   },
   "file_extension": ".py",
   "mimetype": "text/x-python",
   "name": "python",
   "nbconvert_exporter": "python",
   "pygments_lexer": "ipython3",
   "version": "3.10.10"
  },
  "orig_nbformat": 4,
  "vscode": {
   "interpreter": {
    "hash": "288a281c2e3d16a7f601cda6e63e37fd7b42e9331047167925c3ee9da0ad7efc"
   }
  }
 },
 "nbformat": 4,
 "nbformat_minor": 2
}
