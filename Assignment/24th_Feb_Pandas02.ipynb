{
 "cells": [
  {
   "cell_type": "code",
   "execution_count": 2,
   "metadata": {},
   "outputs": [],
   "source": [
    "import pandas as pd"
   ]
  },
  {
   "attachments": {},
   "cell_type": "markdown",
   "metadata": {},
   "source": [
    "Q1. List any five functions of the pandas library with execution."
   ]
  },
  {
   "cell_type": "code",
   "execution_count": 3,
   "metadata": {},
   "outputs": [
    {
     "name": "stdout",
     "output_type": "stream",
     "text": [
      "-DataFrame():\n",
      "      Name  Enrollment  Grade\n",
      "0    Alice         101     87\n",
      "1      Bob         102     92\n",
      "2  Charlie         103     78\n",
      "3    David         104     85\n",
      "4    Emily         105     90\n",
      "\n",
      "-head():\n",
      "    Name  Enrollment  Grade\n",
      "0  Alice         101     87\n",
      "1    Bob         102     92\n",
      "\n",
      "-describe():\n",
      "       Enrollment      Grade\n",
      "count    5.000000   5.000000\n",
      "mean   103.000000  86.400000\n",
      "std      1.581139   5.412947\n",
      "min    101.000000  78.000000\n",
      "25%    102.000000  85.000000\n",
      "50%    103.000000  87.000000\n",
      "75%    104.000000  90.000000\n",
      "max    105.000000  92.000000\n",
      "\n",
      "-groupBy():\n",
      "Alice\n",
      "    Name  Enrollment  Grade\n",
      "0  Alice         101     87\n",
      "Bob\n",
      "  Name  Enrollment  Grade\n",
      "1  Bob         102     92\n",
      "Charlie\n",
      "      Name  Enrollment  Grade\n",
      "2  Charlie         103     78\n",
      "David\n",
      "    Name  Enrollment  Grade\n",
      "3  David         104     85\n",
      "Emily\n",
      "    Name  Enrollment  Grade\n",
      "4  Emily         105     90\n",
      "\n",
      "-plot():\n"
     ]
    },
    {
     "data": {
      "text/plain": [
       "<Axes: xlabel='Name'>"
      ]
     },
     "execution_count": 3,
     "metadata": {},
     "output_type": "execute_result"
    },
    {
     "data": {
      "image/png": "[encoded data removed]",
      "text/plain": [
       "<Figure size 640x480 with 1 Axes>"
      ]
     },
     "metadata": {},
     "output_type": "display_data"
    }
   ],
   "source": [
    "# 1. DataFrame(): This function is used to convert the data present in the dictionary format to pandas dataframe\n",
    "data={\n",
    "    'Name': ['Alice', 'Bob', 'Charlie', 'David', 'Emily'],\n",
    "    'Enrollment': [101, 102, 103, 104, 105],\n",
    "    'Grade': [87, 92, 78, 85, 90]\n",
    "}\n",
    "\n",
    "df=pd.DataFrame(data)\n",
    "print(\"-DataFrame():\")\n",
    "print(df)\n",
    "print()\n",
    "\n",
    "#2. head(): This function is used to display the first n rows of a DataFrame object. By default, n=5.\n",
    "print(\"-head():\")\n",
    "print(df.head(2))\n",
    "print()\n",
    "\n",
    "#3. describe(): This function is used to generate descriptive statistics of a DataFrame object.\n",
    "print(\"-describe():\")\n",
    "print(df.describe())\n",
    "print()\n",
    "\n",
    "#4. groupby(): This function is used to group the rows of a DataFrame object based on one or more columns.\n",
    "grouped_df=df.groupby('Name')\n",
    "print(\"-groupBy():\")\n",
    "for name,group in grouped_df:\n",
    "    print(name)\n",
    "    print(group)\n",
    "print()\n",
    "\n",
    "#5. plot():\n",
    "print(\"-plot():\")\n",
    "df.plot(kind='bar', x='Name',y='Grade')\n",
    "\n",
    "\n"
   ]
  },
  {
   "cell_type": "markdown",
   "metadata": {},
   "source": [
    "Q2. Given a Pandas DataFrame df with columns 'A', 'B', and 'C', write a Python function to re-index the\n",
    "DataFrame with a new index that starts from 1 and increments by 2 for each row."
   ]
  },
  {
   "cell_type": "code",
   "execution_count": 15,
   "metadata": {},
   "outputs": [
    {
     "name": "stdout",
     "output_type": "stream",
     "text": [
      "BEFORE:\n",
      "\n",
      "   A  B  C\n",
      "0  1  4  7\n",
      "1  2  5  8\n",
      "2  3  6  9\n",
      "\n",
      "AFTER:\n",
      "\n",
      "   A  B  C\n",
      "1  1  4  7\n",
      "3  2  5  8\n",
      "5  3  6  9\n"
     ]
    }
   ],
   "source": [
    "\n",
    "def reindex_dataframe(df):\n",
    "    num_rows = len(df)\n",
    "    new_index = pd.Index(range(1, 2*num_rows, 2))\n",
    "    new_df = df.set_index(new_index)\n",
    "    return new_df\n",
    "\n",
    "df = pd.DataFrame({'A': [1, 2, 3], 'B': [4, 5, 6], 'C': [7, 8, 9]})\n",
    "new_df = reindex_dataframe(df)\n",
    "print(\"BEFORE:\")\n",
    "print()\n",
    "print(df)\n",
    "print()\n",
    "print(\"AFTER:\")\n",
    "print()\n",
    "print(new_df)"
   ]
  },
  {
   "attachments": {},
   "cell_type": "markdown",
   "metadata": {},
   "source": [
    "Q3. You have a Pandas DataFrame df with a column named 'Values'. Write a Python function that iterates over the DataFrame and calculates the sum of the first three values in the 'Values' column. The function should print the sum to the console."
   ]
  },
  {
   "cell_type": "code",
   "execution_count": 25,
   "metadata": {},
   "outputs": [
    {
     "name": "stdout",
     "output_type": "stream",
     "text": [
      "   Values  Marks  Score\n",
      "0      10      1      7\n",
      "1      20      2      8\n",
      "2      30      3      9\n",
      "3      40     10     12\n",
      "\n",
      "Sum of first three values in 'Values' column is:  60\n"
     ]
    }
   ],
   "source": [
    "def sumThree(df):\n",
    "    sum=0\n",
    "    for i in df['Values'][0:3]:\n",
    "        sum+=i\n",
    "    print(\"Sum of first three values in 'Values' column is: \",sum)\n",
    "\n",
    "df = pd.DataFrame({'Values': [10,20,30,40], 'Marks': [1, 2, 3,10], 'Score': [7, 8, 9,12]})\n",
    "print(df)\n",
    "print()\n",
    "sumThree(df)\n"
   ]
  },
  {
   "attachments": {},
   "cell_type": "markdown",
   "metadata": {},
   "source": [
    "Q4. Given a Pandas DataFrame df with a column 'Text', write a Python function to create a new column 'Word_Count' that contains the number of words in each row of the 'Text' column."
   ]
  },
  {
   "cell_type": "code",
   "execution_count": 32,
   "metadata": {},
   "outputs": [
    {
     "name": "stdout",
     "output_type": "stream",
     "text": [
      "                                                Text\n",
      "0  Data science is the domain of study that deals...\n",
      "1  Data science uses complex machine learning alg...\n",
      "2  The data used for analysis can come from many ...\n",
      "\n",
      "                                                Text  Word_Count\n",
      "0  Data science is the domain of study that deals...          30\n",
      "1  Data science uses complex machine learning alg...          11\n",
      "2  The data used for analysis can come from many ...          16\n"
     ]
    }
   ],
   "source": [
    "def wordCount(df):\n",
    "    l=[]\n",
    "    num_words=[]\n",
    "    for i in df['Text']:\n",
    "        l=i.split()\n",
    "        num_words.append(len(l))\n",
    "    df['Word_Count']=num_words\n",
    "    return df\n",
    "\n",
    "df= pd.DataFrame({'Text':[\"Data science is the domain of study that deals with vast volumes of data using modern tools and techniques to find unseen patterns, derive meaningful information, and make business decisions.\",\"Data science uses complex machine learning algorithms to build predictive models.\",\"The data used for analysis can come from many different sources and presented in various formats.\"]})\n",
    "print(df)\n",
    "new_df=wordCount(df)\n",
    "print()\n",
    "print(new_df)\n"
   ]
  },
  {
   "attachments": {},
   "cell_type": "markdown",
   "metadata": {},
   "source": [
    "Q5. How are DataFrame.size() and DataFrame.shape() different?"
   ]
  },
  {
   "cell_type": "code",
   "execution_count": 38,
   "metadata": {},
   "outputs": [
    {
     "name": "stdout",
     "output_type": "stream",
     "text": [
      "      Name  Enrollment  Grade\n",
      "0    Alice         101     87\n",
      "1      Bob         102     92\n",
      "2  Charlie         103     78\n",
      "3    David         104     85\n",
      "4    Emily         105     90\n",
      "\n",
      "size() gives:  15\n",
      "shape() gives:  (5, 3)\n"
     ]
    }
   ],
   "source": [
    "'''\n",
    "DataFrame.size() and DataFrame.shape() are two methods of Pandas DataFrame that return different information about \n",
    "the DataFrame:\n",
    "\n",
    "DataFrame.size() returns the total number of elements in the DataFrame, which is equal to the product of the number \n",
    "of rows and the number of columns. This method returns a scalar value, not a tuple or an array.\n",
    "\n",
    "DataFrame.shape() returns a tuple that contains the number of rows and columns in the DataFrame. The first element of \n",
    "the tuple is the number of rows, and the second element is the number of columns.\n",
    "\n",
    "'''\n",
    "\n",
    "data={\n",
    "    'Name': ['Alice', 'Bob', 'Charlie', 'David', 'Emily'],\n",
    "    'Enrollment': [101, 102, 103, 104, 105],\n",
    "    'Grade': [87, 92, 78, 85, 90]\n",
    "}\n",
    "\n",
    "df1=pd.DataFrame(data)\n",
    "print(df1)\n",
    "print()\n",
    "print(\"size() gives: \",df1.size)\n",
    "print(\"shape() gives: \",df1.shape)"
   ]
  },
  {
   "cell_type": "markdown",
   "metadata": {},
   "source": [
    "Q6. Which function of pandas do we use to read an excel file?"
   ]
  },
  {
   "cell_type": "code",
   "execution_count": null,
   "metadata": {},
   "outputs": [],
   "source": [
    "'''\n",
    "In Pandas, you can use the read_excel() function to read an Excel file.\n",
    "\n",
    "\n",
    "\n",
    "Here is an example code snippet:\n",
    "\n",
    "import pandas as pd\n",
    "df = pd.read_excel('example.xlsx', sheet_name='Sheet1')\n",
    "print(df)\n",
    "\n",
    "\n",
    "\n",
    "In this example, the read_excel() function reads the Excel file \"example.xlsx\" and returns a Pandas DataFrame. \n",
    "The sheet_name parameter specifies which sheet of the Excel file to read. If sheet_name is not specified, by \n",
    "default the first sheet in the workbook will be read.\n",
    "\n",
    "'''"
   ]
  },
  {
   "cell_type": "markdown",
   "metadata": {},
   "source": [
    "Q7. You have a Pandas DataFrame df that contains a column named 'Email' that contains email\n",
    "addresses in the format 'username@domain.com'. Write a Python function that creates a new column\n",
    "'Username' in df that contains only the username part of each email address."
   ]
  },
  {
   "cell_type": "code",
   "execution_count": 48,
   "metadata": {},
   "outputs": [
    {
     "name": "stdout",
     "output_type": "stream",
     "text": [
      "                Email\n",
      "0       raj@gmail.com\n",
      "1      prem@gmail.com\n",
      "2       bob@gmail.com\n",
      "3     alice@gmail.com\n",
      "4  john.doe@gmail.com\n",
      "\n",
      "                Email  Username\n",
      "0       raj@gmail.com       raj\n",
      "1      prem@gmail.com      prem\n",
      "2       bob@gmail.com       bob\n",
      "3     alice@gmail.com     alice\n",
      "4  john.doe@gmail.com  john.doe\n"
     ]
    }
   ],
   "source": [
    "def addUser(df7):\n",
    "    l7=[]\n",
    "    for i in df7['Email']:\n",
    "        l7.append(i.split('@'))\n",
    "    u=[i[0] for i in l7]\n",
    "    #print(u)\n",
    "    df7['Username']=u\n",
    "    return df7\n",
    "\n",
    "\n",
    "\n",
    "data={\n",
    "    \"Email\":[\"raj@gmail.com\",\"prem@gmail.com\",\"bob@gmail.com\",\"alice@gmail.com\",\"john.doe@gmail.com\"]\n",
    "}\n",
    "\n",
    "df7=pd.DataFrame(data)\n",
    "print(df7)\n",
    "print()\n",
    "new_df7=addUser(df7)\n",
    "print(new_df7)\n"
   ]
  },
  {
   "attachments": {},
   "cell_type": "markdown",
   "metadata": {},
   "source": [
    "Q8. You have a Pandas DataFrame df with columns 'A', 'B', and 'C'. Write a Python function that selects\n",
    "all rows where the value in column 'A' is greater than 5 and the value in column 'B' is less than 10. The\n",
    "function should return a new DataFrame that contains only the selected rows."
   ]
  },
  {
   "cell_type": "code",
   "execution_count": 54,
   "metadata": {},
   "outputs": [
    {
     "name": "stdout",
     "output_type": "stream",
     "text": [
      "   A  B  C\n",
      "0  3  5  1\n",
      "1  8  2  7\n",
      "2  6  9  4\n",
      "3  2  3  5\n",
      "4  9  1  2\n",
      "\n",
      "Result:\n",
      "   A  B  C\n",
      "1  8  2  7\n",
      "2  6  9  4\n",
      "4  9  1  2\n"
     ]
    }
   ],
   "source": [
    "def selRows(df8):\n",
    "    new_df=df8[(df8['A']>5) & (df8['B']<10) ]\n",
    "    return new_df\n",
    "\n",
    "\n",
    "data={\n",
    "    \"A\":[3,8,6,2,9],\n",
    "    \"B\":[5,2,9,3,1],\n",
    "    \"C\":[1,7,4,5,2]\n",
    "}\n",
    "\n",
    "df8=pd.DataFrame(data)\n",
    "print(df8)\n",
    "print()\n",
    "new_df=selRows(df8)\n",
    "print(\"Result:\")\n",
    "print(new_df)"
   ]
  },
  {
   "attachments": {},
   "cell_type": "markdown",
   "metadata": {},
   "source": [
    "Q9. Given a Pandas DataFrame df with a column 'Values', write a Python function to calculate the mean,\n",
    "median, and standard deviation of the values in the 'Values' column."
   ]
  },
  {
   "cell_type": "code",
   "execution_count": 55,
   "metadata": {},
   "outputs": [
    {
     "data": {
      "text/html": [
       "<div>\n",
       "<style scoped>\n",
       "    .dataframe tbody tr th:only-of-type {\n",
       "        vertical-align: middle;\n",
       "    }\n",
       "\n",
       "    .dataframe tbody tr th {\n",
       "        vertical-align: top;\n",
       "    }\n",
       "\n",
       "    .dataframe thead th {\n",
       "        text-align: right;\n",
       "    }\n",
       "</style>\n",
       "<table border=\"1\" class=\"dataframe\">\n",
       "  <thead>\n",
       "    <tr style=\"text-align: right;\">\n",
       "      <th></th>\n",
       "      <th>Values</th>\n",
       "    </tr>\n",
       "  </thead>\n",
       "  <tbody>\n",
       "    <tr>\n",
       "      <th>0</th>\n",
       "      <td>6</td>\n",
       "    </tr>\n",
       "    <tr>\n",
       "      <th>1</th>\n",
       "      <td>3</td>\n",
       "    </tr>\n",
       "    <tr>\n",
       "      <th>2</th>\n",
       "      <td>2</td>\n",
       "    </tr>\n",
       "    <tr>\n",
       "      <th>3</th>\n",
       "      <td>5</td>\n",
       "    </tr>\n",
       "    <tr>\n",
       "      <th>4</th>\n",
       "      <td>7</td>\n",
       "    </tr>\n",
       "    <tr>\n",
       "      <th>5</th>\n",
       "      <td>10</td>\n",
       "    </tr>\n",
       "  </tbody>\n",
       "</table>\n",
       "</div>"
      ],
      "text/plain": [
       "   Values\n",
       "0       6\n",
       "1       3\n",
       "2       2\n",
       "3       5\n",
       "4       7\n",
       "5      10"
      ]
     },
     "execution_count": 55,
     "metadata": {},
     "output_type": "execute_result"
    }
   ],
   "source": [
    "def stats(df9):\n",
    "    avg=df9['Values'].mean()\n",
    "    med=df9['Values'].median()\n",
    "    std=df9['Values'].std()\n",
    "    print(\"Average:\",avg)\n",
    "    print(\"Median:\",avg)\n",
    "    print(\"\")\n",
    "\n",
    "data={\n",
    "    \"Values\":[6,3,2,5,7,10]\n",
    "}\n",
    "\n",
    "df9=pd.DataFrame(data)\n",
    "df9\n"
   ]
  },
  {
   "cell_type": "code",
   "execution_count": null,
   "metadata": {},
   "outputs": [],
   "source": []
  }
 ],
 "metadata": {
  "kernelspec": {
   "display_name": "Python 3",
   "language": "python",
   "name": "python3"
  },
  "language_info": {
   "codemirror_mode": {
    "name": "ipython",
    "version": 3
   },
   "file_extension": ".py",
   "mimetype": "text/x-python",
   "name": "python",
   "nbconvert_exporter": "python",
   "pygments_lexer": "ipython3",
   "version": "3.10.10"
  },
  "orig_nbformat": 4
 },
 "nbformat": 4,
 "nbformat_minor": 2
}
