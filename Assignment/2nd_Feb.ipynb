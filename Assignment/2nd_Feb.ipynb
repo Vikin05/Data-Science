{
 "cells": [
  {
   "attachments": {},
   "cell_type": "markdown",
   "metadata": {},
   "source": [
    "Q1. What are the characteristics of the tuples? Is tuple immutable? "
   ]
  },
  {
   "cell_type": "code",
   "execution_count": null,
   "metadata": {},
   "outputs": [],
   "source": [
    "'''\n",
    "A.)Tuples are a data structure in Python that consist of an ordered, immutable collection of elements. Here are the key characteristics of tuples:\n",
    "    1.Ordered: The elements in a tuple have a defined order, and this order is maintained.\n",
    "    2.Immutable: Once a tuple is created, its elements cannot be changed. This means that you cannot add, remove, or modify elements in a tuple.\n",
    "    3.Heterogeneous: Tuples can contain elements of different data types, such as integers, strings, and other objects.\n",
    "    4.Indexed: Each element in a tuple can be accessed using an index, starting from 0 for the first element.\n",
    "    5.Can be nested: Tuples can contain other tuples, allowing for complex data structures.\n",
    "\n",
    "B.)In conclusion, tuples are immutable in Python, meaning that you cannot modify the elements of a tuple once it has been created. This property \n",
    "   makes tuples useful for representing fixed collections of data that you want to protect from changes.\n",
    "\n",
    "'''"
   ]
  },
  {
   "attachments": {},
   "cell_type": "markdown",
   "metadata": {},
   "source": [
    "Q2. What are the two tuple methods in python? Give an example of each method. Give a reason why  tuples have only two in-built methods as compared to Lists"
   ]
  },
  {
   "cell_type": "code",
   "execution_count": 16,
   "metadata": {},
   "outputs": [
    {
     "name": "stdout",
     "output_type": "stream",
     "text": [
      "2\n",
      "3\n"
     ]
    },
    {
     "data": {
      "text/plain": [
       "'\\n1.Tuples have only two built-in methods because they are intended to be simple, lightweight, and efficient data structures. Tuples are used to represent \\na fixed number of elements, and they are optimized for quick access and iteration. By limiting the number of built-in methods, the Python designers \\nhave kept tuples lean and fast, making them well-suited for a wide range of tasks.\\n2.Lists, on the other hand, are more feature-rich data structures that are intended to be more flexible and powerful. Lists are designed for dynamic \\ncollections of data, and they have a much larger set of built-in methods to support various operations like sorting, appending, inserting, removing, etc.\\n'"
      ]
     },
     "execution_count": 16,
     "metadata": {},
     "output_type": "execute_result"
    }
   ],
   "source": [
    "#Tuples in Python have two built-in methods: count and index.\n",
    "\n",
    "#count method: This method returns the number of occurrences of a specific element in the tuple.\n",
    "t=(2,1,2,3,4,3,2,1)\n",
    "print(t.count(1))\n",
    "\n",
    "#index method: This method returns the index of the first occurrence of a specific element in the tuple.\n",
    "print(t.index(3))\n",
    "\n",
    "'''\n",
    "1.Tuples have only two built-in methods because they are intended to be simple, lightweight, and efficient data structures. Tuples are used to represent \n",
    "a fixed number of elements, and they are optimized for quick access and iteration. By limiting the number of built-in methods, the Python designers \n",
    "have kept tuples lean and fast, making them well-suited for a wide range of tasks.\n",
    "2.Lists, on the other hand, are more feature-rich data structures that are intended to be more flexible and powerful. Lists are designed for dynamic \n",
    "collections of data, and they have a much larger set of built-in methods to support various operations like sorting, appending, inserting, removing, etc.\n",
    "'''"
   ]
  },
  {
   "attachments": {},
   "cell_type": "markdown",
   "metadata": {},
   "source": [
    "Q3.  Which collection datatypes in python do not allow duplicate items? Write a code using a set to remove  duplicates from the given list. \n",
    "\n",
    "List = [1, 1, 1, 2, 1, 3, 1, 4, 2, 1, 2, 2, 2, 3, 2, 4, 3, 1, 3, 2, 3, 3, 3, 4, 4, 1, 4, 2, 4, 3, 4, 4] "
   ]
  },
  {
   "cell_type": "code",
   "execution_count": 7,
   "metadata": {},
   "outputs": [
    {
     "name": "stdout",
     "output_type": "stream",
     "text": [
      "{1, 2, 3, 4}\n",
      "frozenset({1, 2, 3, 4})\n"
     ]
    }
   ],
   "source": [
    "#Sets and Froensets are the collection datatypes in python that does now allow duplicate items.\n",
    "\n",
    "l = [1, 1, 1, 2, 1, 3, 1, 4, 2, 1, 2, 2, 2, 3, 2, 4, 3, 1, 3, 2, 3, 3, 3, 4, 4, 1, 4, 2, 4, 3, 4, 4] \n",
    "s=set(l)\n",
    "print(s)\n",
    "f=frozenset(l)\n",
    "print(f)"
   ]
  },
  {
   "attachments": {},
   "cell_type": "markdown",
   "metadata": {},
   "source": [
    "Q4. Explain the difference between the union() and update() methods for a set. Give an example of  each method. "
   ]
  },
  {
   "cell_type": "code",
   "execution_count": 14,
   "metadata": {},
   "outputs": [
    {
     "name": "stdout",
     "output_type": "stream",
     "text": [
      "UNION:\n",
      "Set3:{1, 3, 5, 7, 9}\n",
      "Set1:{1, 3, 5}\n",
      "UPDATE\n",
      "Set1:{1, 3, 5, 7, 9}\n"
     ]
    }
   ],
   "source": [
    "# In Python, the union() and update() methods are used to combine elements from two sets.\n",
    "\n",
    "#1. union() method: The union() method returns a set that contains all elements from both the original set and the set(s) being combined. \n",
    "# The original set is not modified.\n",
    "\n",
    "set1={1,3,5}\n",
    "set2={5,7,9}\n",
    "set3=set1.union(set2)\n",
    "print(\"UNION:\")\n",
    "print(f\"Set3:{set3}\")\n",
    "print(f\"Set1:{set1}\")\n",
    "\n",
    "#2. update() method: The update() method modifies the original set by adding all elements from the set(s) being combined.\n",
    "set1={1,3,5}\n",
    "set2={5,7,9}\n",
    "set1.update(set2)\n",
    "print(\"UPDATE\")\n",
    "print(f\"Set1:{set1}\")"
   ]
  },
  {
   "attachments": {},
   "cell_type": "markdown",
   "metadata": {},
   "source": [
    "Q5. What is a dictionary? Give an example. Also, state whether a dictionary is ordered or unordered. "
   ]
  },
  {
   "cell_type": "code",
   "execution_count": 17,
   "metadata": {},
   "outputs": [
    {
     "data": {
      "text/plain": [
       "{'Ram': 95, 'Prem': 65, 'Raj': 75, 'Mukesh': 97}"
      ]
     },
     "execution_count": 17,
     "metadata": {},
     "output_type": "execute_result"
    }
   ],
   "source": [
    "'''\n",
    "A dictionary in Python is a collection of key-value pairs, where each key is associated with a value. Dictionaries are unordered, \n",
    "which means that the items have no index and no order is guaranteed.\n",
    "\n",
    "'''\n",
    "d={\"Ram\":95,\"Prem\":65,\"Raj\":75,\"Mukesh\":97}\n",
    "d"
   ]
  },
  {
   "attachments": {},
   "cell_type": "markdown",
   "metadata": {},
   "source": [
    "Q6. Can we create a nested dictionary? If so, please give an example by creating a simple one-level  nested dictionary. "
   ]
  },
  {
   "cell_type": "code",
   "execution_count": 18,
   "metadata": {},
   "outputs": [
    {
     "data": {
      "text/plain": [
       "{'person1': {'name': 'Anil', 'age': 35, 'city': 'Mumbai'},\n",
       " 'person2': {'name': 'Varun', 'age': 32, 'city': 'Bengaluru'}}"
      ]
     },
     "execution_count": 18,
     "metadata": {},
     "output_type": "execute_result"
    }
   ],
   "source": [
    "#Yes, we can create a nested dictionary in Python. A nested dictionary is a dictionary that contains one or more dictionaries as its values.\n",
    "nested_dict = {'person1': {'name': 'Anil', 'age': 35, 'city': 'Mumbai'},\n",
    "               'person2': {'name': 'Varun', 'age': 32, 'city': 'Bengaluru'}}\n",
    "nested_dict"
   ]
  },
  {
   "attachments": {},
   "cell_type": "markdown",
   "metadata": {},
   "source": [
    "Q7. Using setdefault() method, create key named topics in the given dictionary and also add the value of  the key as this list ['Python', 'Machine Learning’, 'Deep Learning'] \n",
    "\n",
    "dict1 = {'language' : 'Python', 'course': 'Data Science Masters'}"
   ]
  },
  {
   "cell_type": "code",
   "execution_count": 19,
   "metadata": {},
   "outputs": [
    {
     "data": {
      "text/plain": [
       "{'language': 'Python',\n",
       " 'course': 'Data Science Masters',\n",
       " 'topics': ['Python', 'Machine Learning', 'Deep Learning']}"
      ]
     },
     "execution_count": 19,
     "metadata": {},
     "output_type": "execute_result"
    }
   ],
   "source": [
    "dict1 = {'language' : 'Python', 'course': 'Data Science Masters'}\n",
    "sub=[\"Python\",\"Machine Learning\",\"Deep Learning\"]\n",
    "\n",
    "dict1.setdefault(\"topics\",sub)\n",
    "dict1"
   ]
  },
  {
   "attachments": {},
   "cell_type": "markdown",
   "metadata": {},
   "source": [
    "Q8. What are the three view objects in dictionaries? Use the three in-built methods in python to display  these three view objects for the given dictionary. \n",
    "\n",
    "dict1 = {'Sport': 'Cricket' , 'Teams': ['India', 'Australia', 'England', 'South Africa', 'Sri Lanka', 'New Zealand']} \n"
   ]
  },
  {
   "cell_type": "code",
   "execution_count": 20,
   "metadata": {},
   "outputs": [
    {
     "name": "stdout",
     "output_type": "stream",
     "text": [
      "dict_keys(['Sport', 'Teams'])\n",
      "dict_values(['Cricket', ['India', 'Australia', 'England', 'South Africa', 'Sri Lanka', 'New Zealand']])\n",
      "dict_items([('Sport', 'Cricket'), ('Teams', ['India', 'Australia', 'England', 'South Africa', 'Sri Lanka', 'New Zealand'])])\n"
     ]
    }
   ],
   "source": [
    "dict1= {'Sport':'Cricket', 'Teams':['India','Australia','England','South Africa','Sri Lanka','New Zealand']}\n",
    "\n",
    "#Three view objects in Dictionary are: 1.keys 2.values 3.items\n",
    "print(dict1.keys())\n",
    "print(dict1.values())\n",
    "print(dict1.items()) "
   ]
  }
 ],
 "metadata": {
  "kernelspec": {
   "display_name": "Python 3",
   "language": "python",
   "name": "python3"
  },
  "language_info": {
   "codemirror_mode": {
    "name": "ipython",
    "version": 3
   },
   "file_extension": ".py",
   "mimetype": "text/x-python",
   "name": "python",
   "nbconvert_exporter": "python",
   "pygments_lexer": "ipython3",
   "version": "3.10.10"
  },
  "orig_nbformat": 4,
  "vscode": {
   "interpreter": {
    "hash": "288a281c2e3d16a7f601cda6e63e37fd7b42e9331047167925c3ee9da0ad7efc"
   }
  }
 },
 "nbformat": 4,
 "nbformat_minor": 2
}
