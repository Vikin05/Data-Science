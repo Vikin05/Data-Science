{
 "cells": [
  {
   "attachments": {},
   "cell_type": "markdown",
   "metadata": {},
   "source": [
    "Q1. What is multithreading in python? Why is it used? Name the module used to handle threads in python."
   ]
  },
  {
   "cell_type": "code",
   "execution_count": null,
   "metadata": {},
   "outputs": [],
   "source": [
    "'''\n",
    "- Multithreading in Python is a technique where a single program can run multiple threads \n",
    "  (smaller units of execution) within a process. Each thread can run independently, allowing \n",
    "  different parts of the program to execute simultaneously.\n",
    "\n",
    "- Multithreading is used in Python to achieve parallelism, which can improve the performance \n",
    "  of applications that require concurrent processing of multiple tasks. Some examples include \n",
    "  downloading files while processing data, handling multiple requests in a web server, or running \n",
    "  multiple simulations in a scientific application.\n",
    "\n",
    "- Python provides a built-in threading module for working with threads. This module provides classes \n",
    "  and functions for creating and managing threads, as well as synchronization primitives such as locks, \n",
    "  events, and semaphores to coordinate the execution of threads.\n",
    "\n",
    "- The threading module supports both low-level and high-level interfaces for working with threads. \n",
    "  The low-level interface provides more control over thread creation and management, while the \n",
    "  high-level interface provides simpler constructs such as the Thread class, which makes it easier to \n",
    "  create and manage threads.\n",
    "\n",
    "'''"
   ]
  },
  {
   "attachments": {},
   "cell_type": "markdown",
   "metadata": {},
   "source": [
    "Q2. Why threading module used? Write the use of the following functions\n",
    "a. activeCount\n",
    "b. currentThread\n",
    "c. enumerate"
   ]
  },
  {
   "cell_type": "code",
   "execution_count": null,
   "metadata": {},
   "outputs": [],
   "source": [
    "'''\n",
    "\n",
    "- The threading module in Python is used to create and manage threads in a program. It provides a way \n",
    "  to execute multiple threads in parallel, allowing for concurrent execution of multiple tasks.\n",
    "\n",
    "Here's the use of the following functions in the threading module:\n",
    "\n",
    "a. activeCount(): This function returns the number of currently active threads in the program, including \n",
    "   the main thread. It can be useful for monitoring the progress of a multi-threaded program.\n",
    "\n",
    "b. currentThread(): This function returns the current thread object. It can be useful for getting \n",
    "   information about the current thread, such as its name or ID. \n",
    "\n",
    "c. enumerate(): This function returns a list of all currently active thread objects. It can be useful \n",
    "   for iterating over all active threads and performing some action on each one.\n",
    "\n",
    "   \n",
    "'''"
   ]
  },
  {
   "attachments": {},
   "cell_type": "markdown",
   "metadata": {},
   "source": [
    "Q3. Explain the following functions\n",
    "a. run\n",
    "b. start\n",
    "c. join\n",
    "d. isAlive"
   ]
  },
  {
   "cell_type": "code",
   "execution_count": null,
   "metadata": {},
   "outputs": [],
   "source": [
    "'''\n",
    "a. run(): This method is called when a thread is started using the start() method. It is typically overridden \n",
    "   in a subclass to define the thread's behavior. The default implementation of this method does nothing.\n",
    "\n",
    "b. start(): This method starts the thread's activity by calling its run() method. The thread will continue \n",
    "   running until its run() method returns or is terminated using other means.\n",
    "\n",
    "c. join(): This method blocks the calling thread until the thread whose join() method is called has completed. \n",
    "   It can be used to ensure that a thread has finished executing before continuing with the rest of the program.\n",
    "\n",
    "d. isAlive(): This method returns True if the thread is currently running, and False otherwise. It can be used \n",
    "   to check if a thread is still active before joining it.\n",
    "\n",
    "'''"
   ]
  },
  {
   "attachments": {},
   "cell_type": "markdown",
   "metadata": {},
   "source": [
    "Q4. Write a python program to create two threads. Thread one must print the list of squares and thread\n",
    "two must print the list of cubes"
   ]
  },
  {
   "cell_type": "code",
   "execution_count": 2,
   "metadata": {},
   "outputs": [
    {
     "ename": "ImportError",
     "evalue": "cannot import name 'thread' from 'threading' (C:\\Program Files\\WindowsApps\\PythonSoftwareFoundation.Python.3.10_3.10.2800.0_x64__qbz5n2kfra8p0\\lib\\threading.py)",
     "output_type": "error",
     "traceback": [
      "\u001b[1;31m---------------------------------------------------------------------------\u001b[0m",
      "\u001b[1;31mImportError\u001b[0m                               Traceback (most recent call last)",
      "Cell \u001b[1;32mIn[2], line 1\u001b[0m\n\u001b[1;32m----> 1\u001b[0m \u001b[39mfrom\u001b[39;00m \u001b[39mthreading\u001b[39;00m \u001b[39mimport\u001b[39;00m thread\n\u001b[0;32m      3\u001b[0m \u001b[39mdef\u001b[39;00m \u001b[39msquare_list\u001b[39m():\n\u001b[0;32m      4\u001b[0m     \u001b[39mfor\u001b[39;00m i \u001b[39min\u001b[39;00m \u001b[39mrange\u001b[39m(\u001b[39m10\u001b[39m):\n",
      "\u001b[1;31mImportError\u001b[0m: cannot import name 'thread' from 'threading' (C:\\Program Files\\WindowsApps\\PythonSoftwareFoundation.Python.3.10_3.10.2800.0_x64__qbz5n2kfra8p0\\lib\\threading.py)"
     ]
    }
   ],
   "source": [
    "import threading\n",
    "\n",
    "def square_list():\n",
    "    for i in range(10):\n",
    "        print(i**2)\n",
    "        thread.sleep(1)\n",
    "\n",
    "def cube_list():\n",
    "    for i in range(10):\n",
    "        print(i**3)\n",
    "        thread.sleep(1)\n",
    "\n",
    "s= thread.start(target=square_list)\n",
    "c= thread.start(target=cube_list)\n",
    "\n",
    "s.join()\n",
    "c.join()\n",
    "\n"
   ]
  },
  {
   "attachments": {},
   "cell_type": "markdown",
   "metadata": {},
   "source": [
    "Q5. State advantages and disadvantages of multithreading"
   ]
  },
  {
   "cell_type": "code",
   "execution_count": null,
   "metadata": {},
   "outputs": [],
   "source": []
  },
  {
   "attachments": {},
   "cell_type": "markdown",
   "metadata": {},
   "source": [
    "Q6. Explain deadlocks and race conditions."
   ]
  },
  {
   "cell_type": "code",
   "execution_count": null,
   "metadata": {},
   "outputs": [],
   "source": []
  }
 ],
 "metadata": {
  "kernelspec": {
   "display_name": "Python 3",
   "language": "python",
   "name": "python3"
  },
  "language_info": {
   "codemirror_mode": {
    "name": "ipython",
    "version": 3
   },
   "file_extension": ".py",
   "mimetype": "text/x-python",
   "name": "python",
   "nbconvert_exporter": "python",
   "pygments_lexer": "ipython3",
   "version": "3.10.10"
  },
  "orig_nbformat": 4
 },
 "nbformat": 4,
 "nbformat_minor": 2
}
